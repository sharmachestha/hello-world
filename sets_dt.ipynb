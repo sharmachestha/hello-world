{
 "cells": [
  {
   "cell_type": "code",
   "execution_count": 1,
   "id": "e01897ed-d57c-4450-91e6-719d6388dff4",
   "metadata": {},
   "outputs": [],
   "source": [
    "#sets are unordered \n",
    "s={1,2,7,8}"
   ]
  },
  {
   "cell_type": "code",
   "execution_count": 2,
   "id": "685a9562-defc-4833-84fc-920f8d79bcb2",
   "metadata": {},
   "outputs": [
    {
     "ename": "TypeError",
     "evalue": "'set' object is not subscriptable",
     "output_type": "error",
     "traceback": [
      "\u001b[1;31m---------------------------------------------------------------------------\u001b[0m",
      "\u001b[1;31mTypeError\u001b[0m                                 Traceback (most recent call last)",
      "Cell \u001b[1;32mIn[2], line 1\u001b[0m\n\u001b[1;32m----> 1\u001b[0m s[\u001b[38;5;241m2\u001b[39m]\n",
      "\u001b[1;31mTypeError\u001b[0m: 'set' object is not subscriptable"
     ]
    }
   ],
   "source": [
    "s[2]"
   ]
  },
  {
   "cell_type": "code",
   "execution_count": 3,
   "id": "b0b9ed71-7d29-44ed-aa46-3788d69cf53e",
   "metadata": {},
   "outputs": [],
   "source": [
    "#we can add element in a set using add \n",
    "s.add(89)"
   ]
  },
  {
   "cell_type": "code",
   "execution_count": 4,
   "id": "a30e0469-d38c-46e1-b939-fa2852835f5c",
   "metadata": {},
   "outputs": [
    {
     "data": {
      "text/plain": [
       "{1, 2, 7, 8, 89}"
      ]
     },
     "execution_count": 4,
     "metadata": {},
     "output_type": "execute_result"
    }
   ],
   "source": [
    "s"
   ]
  },
  {
   "cell_type": "code",
   "execution_count": 5,
   "id": "5365d36a-2904-4dc5-8937-77592b953b5d",
   "metadata": {},
   "outputs": [],
   "source": [
    "#we can remove element from a set using remove\n",
    "s.remove(7)"
   ]
  },
  {
   "cell_type": "code",
   "execution_count": 6,
   "id": "9430550c-d9a5-4f6b-a501-bc9bca03186d",
   "metadata": {},
   "outputs": [
    {
     "data": {
      "text/plain": [
       "{1, 2, 8, 89}"
      ]
     },
     "execution_count": 6,
     "metadata": {},
     "output_type": "execute_result"
    }
   ],
   "source": [
    "s"
   ]
  },
  {
   "cell_type": "code",
   "execution_count": 7,
   "id": "27ff8948-862b-4f3f-9baa-497fc8a613b5",
   "metadata": {},
   "outputs": [
    {
     "ename": "TypeError",
     "evalue": "unhashable type: 'list'",
     "output_type": "error",
     "traceback": [
      "\u001b[1;31m---------------------------------------------------------------------------\u001b[0m",
      "\u001b[1;31mTypeError\u001b[0m                                 Traceback (most recent call last)",
      "Cell \u001b[1;32mIn[7], line 2\u001b[0m\n\u001b[0;32m      1\u001b[0m \u001b[38;5;66;03m# set k andr aur dictionary ki keys m immutable elements hi hne chahiye \u001b[39;00m\n\u001b[1;32m----> 2\u001b[0m s\u001b[38;5;241m=\u001b[39m{\u001b[38;5;241m1\u001b[39m,[\u001b[38;5;241m1\u001b[39m,\u001b[38;5;241m2\u001b[39m,\u001b[38;5;241m3\u001b[39m],(\u001b[38;5;241m45\u001b[39m,)}\n",
      "\u001b[1;31mTypeError\u001b[0m: unhashable type: 'list'"
     ]
    }
   ],
   "source": [
    "# set k andr aur dictionary ki keys m immutable elements hi hne chahiye \n",
    "s={1,[1,2,3],(45,)}"
   ]
  },
  {
   "cell_type": "code",
   "execution_count": 8,
   "id": "2934775f-77ae-4acb-a5fa-0371b53a7f84",
   "metadata": {},
   "outputs": [],
   "source": [
    "# set k andr aur dictionary ki keys m immutable elements hi hne chahiye \n",
    "s={1,(1,2,3),(45,)}"
   ]
  },
  {
   "cell_type": "code",
   "execution_count": 9,
   "id": "85bf64db-4e22-421c-a9c8-ebea8337c4a9",
   "metadata": {},
   "outputs": [],
   "source": [
    "# sets can only contain unique elements \n",
    "s2={3,4,5,6,6}"
   ]
  },
  {
   "cell_type": "code",
   "execution_count": 10,
   "id": "3fd28d83-3913-4b88-bb60-34bf9ee0dd88",
   "metadata": {},
   "outputs": [
    {
     "data": {
      "text/plain": [
       "{3, 4, 5, 6}"
      ]
     },
     "execution_count": 10,
     "metadata": {},
     "output_type": "execute_result"
    }
   ],
   "source": [
    "s2"
   ]
  },
  {
   "cell_type": "code",
   "execution_count": null,
   "id": "bb4fb9fa-e45e-4c06-8570-460b99694424",
   "metadata": {},
   "outputs": [],
   "source": []
  }
 ],
 "metadata": {
  "kernelspec": {
   "display_name": "Python 3 (ipykernel)",
   "language": "python",
   "name": "python3"
  },
  "language_info": {
   "codemirror_mode": {
    "name": "ipython",
    "version": 3
   },
   "file_extension": ".py",
   "mimetype": "text/x-python",
   "name": "python",
   "nbconvert_exporter": "python",
   "pygments_lexer": "ipython3",
   "version": "3.12.4"
  }
 },
 "nbformat": 4,
 "nbformat_minor": 5
}
