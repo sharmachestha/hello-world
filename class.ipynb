{
 "cells": [
  {
   "cell_type": "code",
   "execution_count": null,
   "id": "72555ba2-87ee-4ce6-8b89-f8811c772461",
   "metadata": {},
   "outputs": [],
   "source": [
    "# Abstraction\n",
    "class Mathsoperations:\n",
    "    def addition_no(self):\n",
    "        a=int(input(\"enter no 1\"))\n",
    "        b=int(input(\"enter no 2\"))\n",
    "        c=a+b\n",
    "        print(c)\n",
    "    def subtraction_no(self):\n",
    "        a=int(input(\"enter no 1\"))\n",
    "        b=int(input(\"enter no 2\"))\n",
    "        c=a-b\n",
    "        print(c) \n",
    "    def multiplication_no(self):\n",
    "        a=int(input(\"enter no 1\"))\n",
    "        b=int(input(\"enter no 2\"))\n",
    "        c=a*b\n",
    "        print(c)\n",
    "    def division_no(self):\n",
    "        a=int(input(\"enter no 1\"))\n",
    "        b=int(input(\"enter no 2\")) \n",
    "        c=a//b\n",
    "        print(c) \n",
    "    def allops_no(self):#to hide all the functions\n",
    "        self.addition_no()\n",
    "        self.subtraction_no()\n",
    "        self.multiplication_no()\n",
    "        self.division_no()"
   ]
  },
  {
   "cell_type": "code",
   "execution_count": null,
   "id": "9373b7cc-af8f-4616-acc5-78b6bdbaf4d9",
   "metadata": {},
   "outputs": [],
   "source": [
    "m=Mathsoperations()"
   ]
  },
  {
   "cell_type": "code",
   "execution_count": null,
   "id": "0db8261d-e898-48fa-8a38-5c6e66d3e087",
   "metadata": {},
   "outputs": [],
   "source": [
    "m.division_no()"
   ]
  },
  {
   "cell_type": "code",
   "execution_count": null,
   "id": "14b484a4-802a-4edd-a2a9-c6dee2c81b16",
   "metadata": {},
   "outputs": [],
   "source": [
    "m.allops_no()"
   ]
  },
  {
   "cell_type": "code",
   "execution_count": null,
   "id": "f90e42bc-f3be-45c1-b576-687d33e51823",
   "metadata": {},
   "outputs": [],
   "source": [
    "#polymorphism\n",
    "class dog():\n",
    "    def sound(self):\n",
    "        print(\"bark\")\n",
    "\n",
    "class cat():\n",
    "    def sound(self):\n",
    "        print(\"meow\")\n",
    "\n",
    "def animal_sound(animal):\n",
    "    animal.sound()"
   ]
  },
  {
   "cell_type": "code",
   "execution_count": null,
   "id": "e74eac23-762a-40ce-8e19-cb5b04304ec7",
   "metadata": {},
   "outputs": [],
   "source": [
    "d=dog()\n",
    "c=cat()"
   ]
  },
  {
   "cell_type": "code",
   "execution_count": null,
   "id": "6a220376-940b-44a4-8f63-7d4cd460c985",
   "metadata": {},
   "outputs": [],
   "source": [
    "animal_sound(d)"
   ]
  },
  {
   "cell_type": "code",
   "execution_count": 7,
   "id": "994d9ae2-1856-41ea-a288-dc718ddce968",
   "metadata": {},
   "outputs": [],
   "source": [
    "#single inheritance, multiple inheritance, multilevel inheritance \n",
    "#single inheritance\n",
    "class first:\n",
    "    def one(self):\n",
    "        print(\"one\")\n",
    "\n",
    "class second(first):\n",
    "    def two(self):\n",
    "        print(\"second\")"
   ]
  },
  {
   "cell_type": "code",
   "execution_count": 8,
   "id": "b8d3a987-90fa-497b-9835-c82a476b2d53",
   "metadata": {},
   "outputs": [
    {
     "name": "stdout",
     "output_type": "stream",
     "text": [
      "second\n"
     ]
    }
   ],
   "source": [
    "s=second()\n",
    "s.two()"
   ]
  },
  {
   "cell_type": "code",
   "execution_count": 9,
   "id": "453c2bce-e668-47dc-aac6-8b98cbbd16d2",
   "metadata": {},
   "outputs": [
    {
     "name": "stdout",
     "output_type": "stream",
     "text": [
      "one\n"
     ]
    }
   ],
   "source": [
    "s.one()"
   ]
  },
  {
   "cell_type": "code",
   "execution_count": 10,
   "id": "d5e16a79-045a-4743-a4eb-40d8bdb2d3a5",
   "metadata": {},
   "outputs": [],
   "source": [
    "#multiple inheritance \n",
    "class first:\n",
    "    def one(self):\n",
    "        print(\"one\")\n",
    "\n",
    "class second:\n",
    "    def two(self):\n",
    "        print(\"two\")\n",
    "\n",
    "class third(first,second):\n",
    "    def three(self):\n",
    "        print(\"three\")"
   ]
  },
  {
   "cell_type": "code",
   "execution_count": 11,
   "id": "31f82dc5-015d-40d6-ab5e-aea1eb0d4fd1",
   "metadata": {},
   "outputs": [],
   "source": [
    "t=third()"
   ]
  },
  {
   "cell_type": "code",
   "execution_count": 12,
   "id": "bab14621-b616-4fd1-aa9c-b9ba3f586227",
   "metadata": {},
   "outputs": [
    {
     "name": "stdout",
     "output_type": "stream",
     "text": [
      "three\n"
     ]
    }
   ],
   "source": [
    "t.three()"
   ]
  },
  {
   "cell_type": "code",
   "execution_count": 13,
   "id": "2a4186f6-831d-44c6-9cd0-68a71d474be7",
   "metadata": {},
   "outputs": [
    {
     "name": "stdout",
     "output_type": "stream",
     "text": [
      "one\n"
     ]
    }
   ],
   "source": [
    "t.one()"
   ]
  },
  {
   "cell_type": "code",
   "execution_count": 15,
   "id": "06ea2e11-47bc-48ab-9228-0d4e271700c2",
   "metadata": {},
   "outputs": [
    {
     "name": "stdout",
     "output_type": "stream",
     "text": [
      "two\n"
     ]
    }
   ],
   "source": [
    "t.two()"
   ]
  },
  {
   "cell_type": "code",
   "execution_count": 16,
   "id": "4c677ca0-b3a8-4248-8cc4-a501c6dd35da",
   "metadata": {},
   "outputs": [],
   "source": [
    "#multilevel inheritance\n",
    "class first:\n",
    "    def one(self):\n",
    "        print(\"one\")\n",
    "\n",
    "class second(first):\n",
    "    def two(self):\n",
    "        print(\"two\")\n",
    "\n",
    "class third(second):\n",
    "    def three(self):\n",
    "        print(\"three\")"
   ]
  },
  {
   "cell_type": "code",
   "execution_count": 17,
   "id": "45461c59-4333-452d-80af-3bbc66833177",
   "metadata": {},
   "outputs": [],
   "source": [
    "t=third()"
   ]
  },
  {
   "cell_type": "code",
   "execution_count": 18,
   "id": "a27c2ab9-1869-40c5-b76b-f25464f9e2d8",
   "metadata": {},
   "outputs": [
    {
     "name": "stdout",
     "output_type": "stream",
     "text": [
      "one\n"
     ]
    }
   ],
   "source": [
    "t.one()"
   ]
  },
  {
   "cell_type": "code",
   "execution_count": 19,
   "id": "6511747f-8acb-4674-b914-263890303242",
   "metadata": {},
   "outputs": [
    {
     "name": "stdout",
     "output_type": "stream",
     "text": [
      "two\n"
     ]
    }
   ],
   "source": [
    "t.two()"
   ]
  },
  {
   "cell_type": "code",
   "execution_count": 20,
   "id": "9e70bcfd-d744-460d-ba17-b074db982481",
   "metadata": {},
   "outputs": [
    {
     "name": "stdout",
     "output_type": "stream",
     "text": [
      "three\n"
     ]
    }
   ],
   "source": [
    "t.three()"
   ]
  },
  {
   "cell_type": "code",
   "execution_count": 21,
   "id": "f8919b2e-d1f8-45c8-94e3-5928c21395db",
   "metadata": {},
   "outputs": [],
   "source": [
    "#public attribute, private attribute and protected attribute\n",
    "#public attribute\n",
    "class child:\n",
    "    def __init__(self,name):\n",
    "        self.name=name \n",
    "    def say_name(self):\n",
    "        self.name"
   ]
  },
  {
   "cell_type": "code",
   "execution_count": 23,
   "id": "e3882b02-522d-4c9f-8ee6-4f890b4e5824",
   "metadata": {},
   "outputs": [],
   "source": [
    "c=child(\"chestha\")"
   ]
  },
  {
   "cell_type": "code",
   "execution_count": 24,
   "id": "7d9401c5-cbe0-4049-bb6a-aaf4d0b8b978",
   "metadata": {},
   "outputs": [
    {
     "data": {
      "text/plain": [
       "'chestha'"
      ]
     },
     "execution_count": 24,
     "metadata": {},
     "output_type": "execute_result"
    }
   ],
   "source": [
    "c.name"
   ]
  },
  {
   "cell_type": "code",
   "execution_count": 25,
   "id": "049dba31-dab0-45f8-aeb3-9532e18be2e9",
   "metadata": {},
   "outputs": [],
   "source": [
    "#protected attribute \n",
    "class child:\n",
    "    def __init__(self,name):\n",
    "        self._name=name\n",
    "    def say_name(self):\n",
    "        self._name"
   ]
  },
  {
   "cell_type": "code",
   "execution_count": 27,
   "id": "15210bcb-1035-4eec-a03f-61dc9cdbe0f0",
   "metadata": {},
   "outputs": [],
   "source": [
    "c=child(\"monika\")"
   ]
  },
  {
   "cell_type": "code",
   "execution_count": 28,
   "id": "6513e89e-09b9-42b5-af3b-dedb63d468ca",
   "metadata": {},
   "outputs": [
    {
     "data": {
      "text/plain": [
       "'monika'"
      ]
     },
     "execution_count": 28,
     "metadata": {},
     "output_type": "execute_result"
    }
   ],
   "source": [
    "c._name"
   ]
  },
  {
   "cell_type": "code",
   "execution_count": 29,
   "id": "291524b0-ce85-4023-adc0-4aba36928f6f",
   "metadata": {},
   "outputs": [],
   "source": [
    "#private attribute\n",
    "class child:\n",
    "    def __init__(self,name):\n",
    "        self.__name=name\n",
    "    def say_name(self):\n",
    "        self.__name "
   ]
  },
  {
   "cell_type": "code",
   "execution_count": 31,
   "id": "c729ff84-7b5d-4248-877c-5ada1f74e92a",
   "metadata": {},
   "outputs": [
    {
     "data": {
      "text/plain": [
       "'monika'"
      ]
     },
     "execution_count": 31,
     "metadata": {},
     "output_type": "execute_result"
    }
   ],
   "source": [
    "c=child(\"monika\")\n",
    "c._child__name"
   ]
  },
  {
   "cell_type": "code",
   "execution_count": 32,
   "id": "a86f5ab0-dae6-4069-a77d-be71e5b75a6d",
   "metadata": {},
   "outputs": [],
   "source": [
    "#in case of two constructoes, it wll consider the immediate one only\n",
    "class child:\n",
    "    def __init__(self,name):\n",
    "        self.name=name\n",
    "    def __init__(self, name):\n",
    "        self.__name=name\n",
    "    def say_name(self):\n",
    "        print(\"say_hello\")"
   ]
  },
  {
   "cell_type": "code",
   "execution_count": 33,
   "id": "86213685-f209-4167-922c-b22fde3ad347",
   "metadata": {},
   "outputs": [],
   "source": [
    "c=child(\"mona\")"
   ]
  },
  {
   "cell_type": "code",
   "execution_count": 34,
   "id": "497d8c28-7ac6-441f-b2c8-fbb3341b8766",
   "metadata": {},
   "outputs": [
    {
     "ename": "AttributeError",
     "evalue": "'child' object has no attribute 'name'",
     "output_type": "error",
     "traceback": [
      "\u001b[1;31m---------------------------------------------------------------------------\u001b[0m",
      "\u001b[1;31mAttributeError\u001b[0m                            Traceback (most recent call last)",
      "Cell \u001b[1;32mIn[34], line 1\u001b[0m\n\u001b[1;32m----> 1\u001b[0m c\u001b[38;5;241m.\u001b[39mname\n",
      "\u001b[1;31mAttributeError\u001b[0m: 'child' object has no attribute 'name'"
     ]
    }
   ],
   "source": [
    "c.name"
   ]
  },
  {
   "cell_type": "code",
   "execution_count": 35,
   "id": "0a6af82c-e1d3-475d-b72c-b1b9d8b23b5e",
   "metadata": {},
   "outputs": [
    {
     "data": {
      "text/plain": [
       "'mona'"
      ]
     },
     "execution_count": 35,
     "metadata": {},
     "output_type": "execute_result"
    }
   ],
   "source": [
    "c._child__name"
   ]
  },
  {
   "cell_type": "code",
   "execution_count": 36,
   "id": "58307c78-9d2e-4ba7-bd52-4a59baed8bfa",
   "metadata": {},
   "outputs": [],
   "source": [
    "#Encapsulation is the process of binding (method)functions and(attributes)data inside the class"
   ]
  },
  {
   "cell_type": "code",
   "execution_count": null,
   "id": "5173e0f4-81e8-49b8-962e-3d893e7d77cb",
   "metadata": {},
   "outputs": [],
   "source": []
  }
 ],
 "metadata": {
  "kernelspec": {
   "display_name": "Python 3 (ipykernel)",
   "language": "python",
   "name": "python3"
  },
  "language_info": {
   "codemirror_mode": {
    "name": "ipython",
    "version": 3
   },
   "file_extension": ".py",
   "mimetype": "text/x-python",
   "name": "python",
   "nbconvert_exporter": "python",
   "pygments_lexer": "ipython3",
   "version": "3.12.4"
  }
 },
 "nbformat": 4,
 "nbformat_minor": 5
}
