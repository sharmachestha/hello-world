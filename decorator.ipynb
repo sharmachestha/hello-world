{
 "cells": [
  {
   "cell_type": "code",
   "execution_count": 1,
   "id": "8c1b78fc-6e10-40ee-9e42-4c97fe7b9493",
   "metadata": {},
   "outputs": [],
   "source": [
    "def shanky(func):\n",
    "    def shank():\n",
    "        print(\"before it runs\")\n",
    "        func()\n",
    "        print(\"after it runs\")\n",
    "    return shank"
   ]
  },
  {
   "cell_type": "code",
   "execution_count": 2,
   "id": "19a9c462-27b4-460b-8cc6-53ab8cba93a0",
   "metadata": {},
   "outputs": [
    {
     "name": "stdout",
     "output_type": "stream",
     "text": [
      "before it runs\n",
      "say hello\n",
      "after it runs\n"
     ]
    }
   ],
   "source": [
    "@shanky\n",
    "def say_hello():\n",
    "    print(\"say hello\")\n",
    "\n",
    "say_hello()"
   ]
  },
  {
   "cell_type": "code",
   "execution_count": null,
   "id": "323a0dfb-0c4d-4c99-bfdf-b26a7d275c6c",
   "metadata": {},
   "outputs": [],
   "source": []
  }
 ],
 "metadata": {
  "kernelspec": {
   "display_name": "Python 3 (ipykernel)",
   "language": "python",
   "name": "python3"
  },
  "language_info": {
   "codemirror_mode": {
    "name": "ipython",
    "version": 3
   },
   "file_extension": ".py",
   "mimetype": "text/x-python",
   "name": "python",
   "nbconvert_exporter": "python",
   "pygments_lexer": "ipython3",
   "version": "3.12.4"
  }
 },
 "nbformat": 4,
 "nbformat_minor": 5
}
