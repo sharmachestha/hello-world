{
 "cells": [
  {
   "cell_type": "code",
   "execution_count": 1,
   "id": "3706f419-cf8b-48ed-afc5-267a5eef4538",
   "metadata": {},
   "outputs": [],
   "source": [
    "numbers=[1,2,3,4,5]"
   ]
  },
  {
   "cell_type": "code",
   "execution_count": 2,
   "id": "4f61c596-1aa3-42d6-b54d-394468873971",
   "metadata": {},
   "outputs": [],
   "source": [
    "#isme hr number ka square krna hai using list comprehension"
   ]
  },
  {
   "cell_type": "code",
   "execution_count": 3,
   "id": "5975ae61-cbb3-42b6-8a22-a4a8b1b03982",
   "metadata": {},
   "outputs": [],
   "source": [
    "ls=[x**2 for x in numbers]"
   ]
  },
  {
   "cell_type": "code",
   "execution_count": 4,
   "id": "399e0766-4c44-435f-b8ac-f0c57a1b1401",
   "metadata": {},
   "outputs": [
    {
     "data": {
      "text/plain": [
       "[1, 4, 9, 16, 25]"
      ]
     },
     "execution_count": 4,
     "metadata": {},
     "output_type": "execute_result"
    }
   ],
   "source": [
    "ls"
   ]
  },
  {
   "cell_type": "code",
   "execution_count": 5,
   "id": "bfc0da07-cd30-4b69-9b8c-80cadd0ba970",
   "metadata": {},
   "outputs": [],
   "source": [
    "words=[\"apple\",\"banana\",\"cherry\"]"
   ]
  },
  {
   "cell_type": "code",
   "execution_count": 6,
   "id": "d09b84ba-4b77-4d9a-816f-e606eabb79bd",
   "metadata": {},
   "outputs": [],
   "source": [
    "ls_w= [i.upper() for i in words]"
   ]
  },
  {
   "cell_type": "code",
   "execution_count": 7,
   "id": "f5286a17-3b65-48d3-bbcc-f2433ca6a71c",
   "metadata": {},
   "outputs": [
    {
     "data": {
      "text/plain": [
       "['APPLE', 'BANANA', 'CHERRY']"
      ]
     },
     "execution_count": 7,
     "metadata": {},
     "output_type": "execute_result"
    }
   ],
   "source": [
    "ls_w"
   ]
  },
  {
   "cell_type": "code",
   "execution_count": 8,
   "id": "08ae6b1e-6292-411f-975d-b40ca4302383",
   "metadata": {},
   "outputs": [],
   "source": [
    "numbers=[1,2,3,4,5,6]\n",
    "#even numbers list krne hai list k"
   ]
  },
  {
   "cell_type": "code",
   "execution_count": 9,
   "id": "28916643-4c95-4b70-9fa9-13444bb067af",
   "metadata": {},
   "outputs": [],
   "source": [
    "ls_n=[i for i in numbers if i%2==0]"
   ]
  },
  {
   "cell_type": "code",
   "execution_count": 10,
   "id": "d95c1570-6061-4bcf-b6a7-d81de8892391",
   "metadata": {},
   "outputs": [
    {
     "data": {
      "text/plain": [
       "[2, 4, 6]"
      ]
     },
     "execution_count": 10,
     "metadata": {},
     "output_type": "execute_result"
    }
   ],
   "source": [
    "ls_n"
   ]
  },
  {
   "cell_type": "code",
   "execution_count": 11,
   "id": "b48a817f-c607-490b-9cbe-76b9109a5da9",
   "metadata": {},
   "outputs": [],
   "source": [
    "numbers=[10,15,20,25,30]"
   ]
  },
  {
   "cell_type": "code",
   "execution_count": 13,
   "id": "35e330bb-03eb-42ef-a571-256f9e704208",
   "metadata": {},
   "outputs": [],
   "source": [
    "#if n<15 -- small\n",
    "#if n<25 -- large \n",
    "#otherwise - very large "
   ]
  },
  {
   "cell_type": "code",
   "execution_count": 15,
   "id": "1015a8bb-e2a7-4955-8bf1-edb6a8d17337",
   "metadata": {},
   "outputs": [],
   "source": [
    "ls_n=[ \"small\" if n<15 else \"large\" if n<25 else \"very large\" for n in numbers]"
   ]
  },
  {
   "cell_type": "code",
   "execution_count": 16,
   "id": "002ea185-424d-4515-a45f-585aa4db9cca",
   "metadata": {},
   "outputs": [
    {
     "data": {
      "text/plain": [
       "['small', 'large', 'large', 'very large', 'very large']"
      ]
     },
     "execution_count": 16,
     "metadata": {},
     "output_type": "execute_result"
    }
   ],
   "source": [
    "ls_n"
   ]
  },
  {
   "cell_type": "code",
   "execution_count": 17,
   "id": "a6316157-8ac9-45f0-8819-aa5cd77cb62d",
   "metadata": {},
   "outputs": [],
   "source": [
    "#hme ek dictionary bnani hai num:num**2 type ki jime value hai range ki 1 to 3"
   ]
  },
  {
   "cell_type": "code",
   "execution_count": 18,
   "id": "7e1bde58-5c96-4b61-b963-58b28bd12cfc",
   "metadata": {},
   "outputs": [],
   "source": [
    "ls_n1={x:x**2 for x in range(1,4)}"
   ]
  },
  {
   "cell_type": "code",
   "execution_count": 19,
   "id": "a6597c35-70cf-4b7d-aaac-4e08284e4052",
   "metadata": {},
   "outputs": [
    {
     "data": {
      "text/plain": [
       "{1: 1, 2: 4, 3: 9}"
      ]
     },
     "execution_count": 19,
     "metadata": {},
     "output_type": "execute_result"
    }
   ],
   "source": [
    "ls_n1"
   ]
  },
  {
   "cell_type": "code",
   "execution_count": 20,
   "id": "85f1af54-579d-42cc-877f-5d273263601f",
   "metadata": {},
   "outputs": [],
   "source": [
    "numbers=[5,12,20,30]"
   ]
  },
  {
   "cell_type": "code",
   "execution_count": null,
   "id": "f2137d6f-13e7-4e45-b295-f00b77d6f245",
   "metadata": {},
   "outputs": [],
   "source": [
    "n: ( if n<10 then small , elif n<20 then medium , else large"
   ]
  },
  {
   "cell_type": "code",
   "execution_count": 22,
   "id": "c96b0155-2ba5-4165-8b1a-607e488585a1",
   "metadata": {},
   "outputs": [],
   "source": [
    "dict_k={n : \"small\" if n<10 else \"medium\" if n<20 else \"large\" for n in numbers}"
   ]
  },
  {
   "cell_type": "code",
   "execution_count": 23,
   "id": "ba64d079-7a88-4ece-8698-613886704e4a",
   "metadata": {},
   "outputs": [
    {
     "data": {
      "text/plain": [
       "{5: 'small', 12: 'medium', 20: 'large', 30: 'large'}"
      ]
     },
     "execution_count": 23,
     "metadata": {},
     "output_type": "execute_result"
    }
   ],
   "source": [
    "dict_k"
   ]
  },
  {
   "cell_type": "code",
   "execution_count": null,
   "id": "db19ad62-a092-4f61-829f-33a13b85e386",
   "metadata": {},
   "outputs": [],
   "source": []
  }
 ],
 "metadata": {
  "kernelspec": {
   "display_name": "Python 3 (ipykernel)",
   "language": "python",
   "name": "python3"
  },
  "language_info": {
   "codemirror_mode": {
    "name": "ipython",
    "version": 3
   },
   "file_extension": ".py",
   "mimetype": "text/x-python",
   "name": "python",
   "nbconvert_exporter": "python",
   "pygments_lexer": "ipython3",
   "version": "3.12.4"
  }
 },
 "nbformat": 4,
 "nbformat_minor": 5
}
