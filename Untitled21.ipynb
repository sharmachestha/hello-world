{
 "cells": [
  {
   "cell_type": "code",
   "execution_count": 49,
   "id": "bd6dc28c-137e-4dec-9fb7-b71cd5be4e55",
   "metadata": {},
   "outputs": [],
   "source": [
    "data = [\n",
    "    {\"name\": \"Alice\", \"department\": \"HR\", \"salary\": 50000},\n",
    "    {\"name\": \"Bob\", \"department\": \"IT\", \"salary\": 70000},\n",
    "    {\"name\": \"Charlie\", \"department\": \"IT\", \"salary\": 65000},\n",
    "    {\"name\": \"David\", \"department\": \"Finance\", \"salary\": 60000},\n",
    "    {\"name\": \"Eva\", \"department\": \"HR\", \"salary\": 52000},\n",
    "]"
   ]
  },
  {
   "cell_type": "code",
   "execution_count": 51,
   "id": "5fe06f97-4f65-4773-8219-0649582cec3a",
   "metadata": {},
   "outputs": [
    {
     "ename": "TypeError",
     "evalue": "unhashable type: 'dict'",
     "output_type": "error",
     "traceback": [
      "\u001b[1;31m---------------------------------------------------------------------------\u001b[0m",
      "\u001b[1;31mTypeError\u001b[0m                                 Traceback (most recent call last)",
      "Cell \u001b[1;32mIn[51], line 7\u001b[0m\n\u001b[0;32m      4\u001b[0m \u001b[38;5;66;03m# Step 2: Iterate through the input data\u001b[39;00m\n\u001b[0;32m      5\u001b[0m \u001b[38;5;28;01mfor\u001b[39;00m department \u001b[38;5;129;01min\u001b[39;00m data:\n\u001b[0;32m      6\u001b[0m     \u001b[38;5;66;03m# Step 3: Check if the department exists in the dictionary\u001b[39;00m\n\u001b[1;32m----> 7\u001b[0m     \u001b[38;5;28;01mif\u001b[39;00m department \u001b[38;5;129;01mnot\u001b[39;00m \u001b[38;5;129;01min\u001b[39;00m department_dict:\n\u001b[0;32m      8\u001b[0m         department_dict[department] \u001b[38;5;241m=\u001b[39m []  \u001b[38;5;66;03m# Initialize a new list for this department\u001b[39;00m\n\u001b[0;32m     10\u001b[0m     \u001b[38;5;66;03m# Step 4: Append the employee to the department's list\u001b[39;00m\n",
      "\u001b[1;31mTypeError\u001b[0m: unhashable type: 'dict'"
     ]
    }
   ],
   "source": [
    "# Step 1: Initialize an empty dictionary\n",
    "department_dict = {}\n",
    "\n",
    "# Step 2: Iterate through the input data\n",
    "for department in data:\n",
    "    # Step 3: Check if the department exists in the dictionary\n",
    "    if department not in department_dict:\n",
    "        department_dict[department] = []  # Initialize a new list for this department\n",
    "    \n",
    "    # Step 4: Append the employee to the department's list\n",
    "    department_dict[department].append(employee)\n",
    "\n",
    "# Output the result\n",
    "print(department_dict)"
   ]
  },
  {
   "cell_type": "code",
   "execution_count": 53,
   "id": "1622793c-0c6f-4c23-ab7b-25dff1e17607",
   "metadata": {},
   "outputs": [
    {
     "name": "stdout",
     "output_type": "stream",
     "text": [
      "{'HR': ['Alice', 'Eva'], 'IT': ['Bob', 'Charlie'], 'Finance': ['David']}\n"
     ]
    }
   ],
   "source": [
    "# Output dictionary\n",
    "department_employees = {}\n",
    "\n",
    "# Using a loop to transform the data\n",
    "for employee in data:\n",
    "    dept = employee[\"department\"]\n",
    "    name = employee[\"name\"]\n",
    "    if dept not in department_employees:\n",
    "        department_employees[dept] = []\n",
    "    department_employees[dept].append(name)\n",
    "\n",
    "print(department_employees)"
   ]
  },
  {
   "cell_type": "code",
   "execution_count": 54,
   "id": "8fc92e6c-89c4-47a5-bfa0-c82d39bdb72d",
   "metadata": {},
   "outputs": [
    {
     "name": "stdout",
     "output_type": "stream",
     "text": [
      "0 1 1 2 3 5 8 13 21 34 "
     ]
    }
   ],
   "source": [
    "def fibonacci_series(n):\n",
    "    # Initialize the first two numbers of the series\n",
    "    a, b = 0, 1\n",
    "    for _ in range(n):\n",
    "        print(a, end=\" \")  # Print the current number in the series\n",
    "        a, b = b, a + b  # Update the next numbers in the series\n",
    "\n",
    "# Example: Generate the first 10 numbers in the Fibonacci series\n",
    "fibonacci_series(10)"
   ]
  },
  {
   "cell_type": "code",
   "execution_count": null,
   "id": "0851a483-b058-4091-8f2b-2c723f830976",
   "metadata": {},
   "outputs": [],
   "source": []
  }
 ],
 "metadata": {
  "kernelspec": {
   "display_name": "Python 3 (ipykernel)",
   "language": "python",
   "name": "python3"
  },
  "language_info": {
   "codemirror_mode": {
    "name": "ipython",
    "version": 3
   },
   "file_extension": ".py",
   "mimetype": "text/x-python",
   "name": "python",
   "nbconvert_exporter": "python",
   "pygments_lexer": "ipython3",
   "version": "3.12.4"
  }
 },
 "nbformat": 4,
 "nbformat_minor": 5
}
