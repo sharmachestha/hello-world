{
 "cells": [
  {
   "cell_type": "code",
   "execution_count": null,
   "id": "c4e27bc0-53c1-4bde-bc5b-7ef5d16ef019",
   "metadata": {},
   "outputs": [],
   "source": [
    "#1. Using {} (your way) ✅\n",
    "dict1={'a':[1,2,3],'b':[\"aman\",\"man\"], 'c':[8,9,10]}"
   ]
  },
  {
   "cell_type": "code",
   "execution_count": null,
   "id": "0facf2ef-f9f5-453b-84a6-d97b2dead761",
   "metadata": {},
   "outputs": [],
   "source": [
    "dict1"
   ]
  },
  {
   "cell_type": "code",
   "execution_count": null,
   "id": "ead4b7e1-4beb-4149-9f3b-c290aede563c",
   "metadata": {},
   "outputs": [],
   "source": [
    "#2. Using dict() constructor\n",
    "d=dict(a=1,b=2)"
   ]
  },
  {
   "cell_type": "code",
   "execution_count": null,
   "id": "6ae66f6f-065e-4db7-8352-884e2ba78370",
   "metadata": {},
   "outputs": [],
   "source": [
    "#3. Using list of tuples (key-value pairs)\n",
    "d=dict([(\"a\",1),(\"b\",2)])"
   ]
  },
  {
   "cell_type": "code",
   "execution_count": null,
   "id": "1b5f3887-c3be-4d85-a9e6-ef9341ec69f5",
   "metadata": {},
   "outputs": [],
   "source": [
    "d"
   ]
  },
  {
   "cell_type": "code",
   "execution_count": null,
   "id": "ec5063b7-3bed-4910-90d8-c910f60ba685",
   "metadata": {},
   "outputs": [],
   "source": [
    "#4. Using zip()\n",
    "keys=['a','b','c']\n",
    "values=[1,2,3]\n",
    "d=dict(zip(keys,values))"
   ]
  },
  {
   "cell_type": "code",
   "execution_count": null,
   "id": "494047bb-278f-41fd-814b-ceaa99372285",
   "metadata": {},
   "outputs": [],
   "source": [
    "d"
   ]
  },
  {
   "cell_type": "code",
   "execution_count": null,
   "id": "5141c6af-f6de-4d66-af4e-5663adf77211",
   "metadata": {},
   "outputs": [],
   "source": [
    "# dictionary is ordered\n",
    "dict['a']"
   ]
  },
  {
   "cell_type": "code",
   "execution_count": null,
   "id": "bea7fadd-74fb-4d19-965c-9c1be650b5b4",
   "metadata": {},
   "outputs": [],
   "source": []
  },
  {
   "cell_type": "code",
   "execution_count": null,
   "id": "cd22b557-dc26-480f-a2eb-602187388538",
   "metadata": {},
   "outputs": [],
   "source": [
    "#slicing doesn't exist \n",
    "dict['a':'c']"
   ]
  },
  {
   "cell_type": "code",
   "execution_count": null,
   "id": "61104005-925e-4445-be1f-f084481fd5c7",
   "metadata": {},
   "outputs": [],
   "source": [
    "dict={'a':[1,2,3],'b':[\"aman\",\"man\"], 'c':[8,9,10]}"
   ]
  },
  {
   "cell_type": "code",
   "execution_count": null,
   "id": "91cca3d8-f6c4-49fe-a4a2-bea27e2a626c",
   "metadata": {},
   "outputs": [],
   "source": [
    "#dictionary is mutable \n",
    "dict['a']=[89,89]"
   ]
  },
  {
   "cell_type": "code",
   "execution_count": null,
   "id": "aaa4da9a-63bd-4c5e-a283-06e4728546cc",
   "metadata": {},
   "outputs": [],
   "source": [
    "dict"
   ]
  },
  {
   "cell_type": "code",
   "execution_count": null,
   "id": "30769a4d-839a-4399-92f4-925e31bf43e6",
   "metadata": {},
   "outputs": [],
   "source": [
    "dict['e']=[65,32]"
   ]
  },
  {
   "cell_type": "code",
   "execution_count": null,
   "id": "9ba77c0d-b6b9-4526-9430-4a15509f43a2",
   "metadata": {},
   "outputs": [],
   "source": [
    "dict"
   ]
  },
  {
   "cell_type": "code",
   "execution_count": null,
   "id": "ab0641f7-2c12-4f8b-a974-1a8e22868202",
   "metadata": {},
   "outputs": [],
   "source": [
    "#for a single element, we can use dict[key]=value"
   ]
  },
  {
   "cell_type": "code",
   "execution_count": null,
   "id": "386d8fa3-4091-4c6b-9bab-3d3d6abf7bde",
   "metadata": {},
   "outputs": [],
   "source": [
    "#for more than one element, we have to use dict.update({})"
   ]
  },
  {
   "cell_type": "code",
   "execution_count": null,
   "id": "c72a14f1-b373-4a70-b11a-d716653829e9",
   "metadata": {},
   "outputs": [],
   "source": [
    "dict.update({'z':[43,21],'a':['aman','pooja']})"
   ]
  },
  {
   "cell_type": "code",
   "execution_count": null,
   "id": "0f4568c9-89f6-47ef-a361-e46cbcd7adf2",
   "metadata": {},
   "outputs": [],
   "source": [
    "dict"
   ]
  },
  {
   "cell_type": "code",
   "execution_count": null,
   "id": "c7b952b5-9dc8-4027-afb8-c6cd9bd0415a",
   "metadata": {},
   "outputs": [],
   "source": [
    "# we can use .pop() and del to erase elements from dictionary"
   ]
  },
  {
   "cell_type": "code",
   "execution_count": null,
   "id": "79332a98-817a-4193-98bd-cc8af59bdf41",
   "metadata": {},
   "outputs": [],
   "source": [
    "dict={'z':[43,21],'a':['aman','pooja']}"
   ]
  },
  {
   "cell_type": "code",
   "execution_count": null,
   "id": "7e25e05e-d773-433f-8bda-6d968ecf52f7",
   "metadata": {},
   "outputs": [],
   "source": [
    "dict.pop('a')"
   ]
  },
  {
   "cell_type": "code",
   "execution_count": null,
   "id": "ca7fc208-7a05-44f5-9e64-ec41e0dad678",
   "metadata": {},
   "outputs": [],
   "source": [
    "dict"
   ]
  },
  {
   "cell_type": "code",
   "execution_count": null,
   "id": "ed131ec3-e0d7-4e02-a141-526d535eab70",
   "metadata": {},
   "outputs": [],
   "source": [
    "del dict['c']"
   ]
  },
  {
   "cell_type": "code",
   "execution_count": null,
   "id": "b019c499-945d-4b1c-ae35-6164b6449400",
   "metadata": {},
   "outputs": [],
   "source": [
    "dict"
   ]
  },
  {
   "cell_type": "code",
   "execution_count": null,
   "id": "fe6eb1ec-f7f8-4af4-a0e7-70ff5406d715",
   "metadata": {},
   "outputs": [],
   "source": [
    "dict.clear()"
   ]
  },
  {
   "cell_type": "code",
   "execution_count": null,
   "id": "9f3b042c-efc0-4435-b25b-1722be3f87ef",
   "metadata": {},
   "outputs": [],
   "source": [
    "# with unordered data types, we can't use + operation \n",
    "# with immutable data type, we cam't use clear operation"
   ]
  },
  {
   "cell_type": "code",
   "execution_count": null,
   "id": "a095c0f2-e912-4d9a-881d-4e5e29358d6d",
   "metadata": {},
   "outputs": [],
   "source": [
    "#Dictionary Comprehension\n",
    "d={x:x**2 for x in range(1,4)}"
   ]
  },
  {
   "cell_type": "code",
   "execution_count": null,
   "id": "563a1c6f-f374-4555-aa21-2b109547f63a",
   "metadata": {},
   "outputs": [],
   "source": [
    "d"
   ]
  },
  {
   "cell_type": "code",
   "execution_count": null,
   "id": "224c96d9-65a4-4c02-94e4-298425639fa9",
   "metadata": {},
   "outputs": [],
   "source": [
    "numbers=[5,12,20,30]"
   ]
  },
  {
   "cell_type": "code",
   "execution_count": null,
   "id": "82cba65b-6dfe-4d72-8ad0-bf1d72a81ac1",
   "metadata": {},
   "outputs": [],
   "source": [
    "results={n:\"small\" if n<10 else \"medium\" if n<20 else \"large\" for n in numbers}"
   ]
  },
  {
   "cell_type": "code",
   "execution_count": null,
   "id": "271e4f67-6ca7-4a1b-b87e-a0e707f499fc",
   "metadata": {},
   "outputs": [],
   "source": [
    "results"
   ]
  },
  {
   "cell_type": "code",
   "execution_count": null,
   "id": "d36841df-b8d4-4ae5-bee3-fa70af69006b",
   "metadata": {},
   "outputs": [],
   "source": []
  }
 ],
 "metadata": {
  "kernelspec": {
   "display_name": "Python 3 (ipykernel)",
   "language": "python",
   "name": "python3"
  },
  "language_info": {
   "codemirror_mode": {
    "name": "ipython",
    "version": 3
   },
   "file_extension": ".py",
   "mimetype": "text/x-python",
   "name": "python",
   "nbconvert_exporter": "python",
   "pygments_lexer": "ipython3",
   "version": "3.12.4"
  }
 },
 "nbformat": 4,
 "nbformat_minor": 5
}
