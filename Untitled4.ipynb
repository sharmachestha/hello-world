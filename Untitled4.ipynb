{
 "cells": [
  {
   "cell_type": "code",
   "execution_count": null,
   "id": "03b97262-3f37-4f95-ab4c-fe979d48f94b",
   "metadata": {},
   "outputs": [],
   "source": [
    "import requests\n",
    "import time\n",
    "import json\n",
    "import math\n",
    "import logging\n",
    "import multiprocessing\n",
    "import pandas as pd\n",
    "from delta.tables import *\n",
    "from more_itertools import sliced\n",
    "from multiprocessing import Pool\n",
    "from pyspark import SparkContext\n",
    "from pyspark.sql.types import FloatType\n",
    "from ratelimit import limits, RateLimitException, sleep_and_retry\n",
    "from pyspark.sql import functions as F\n",
    "from pyspark.sql.functions import concat_ws\n",
    "from operator import itemgetter"
   ]
  },
  {
   "cell_type": "code",
   "execution_count": null,
   "id": "018dcb6f-41d4-423f-89e6-a664fe87465b",
   "metadata": {},
   "outputs": [],
   "source": [
    "SECRET_SCOPE = \"kv-solution-01\"\n",
    "client_secret_key = dbutils.secrets.get(scope=SECRET_SCOPE, key=\"visual-crossing-prod-key\")\n",
    "#client_secret_key = dbutils.secrets.get(scope=SECRET_SCOPE, key=\"hnk-visual-crossing-api-sample-key\")\n",
    "dbutils.widgets.text(\"azure_env\", \"p\")\n",
    "AZURE_ENV = dbutils.widgets.get(\"azure_env\")\n",
    "DATABASE_NAME = \"wdr02\"\n",
    "TABLE_NAME=\"fct_weather_visual_crossing\"\n",
    "MAX_CALLS_PER_TIME_LIMIT=15\n",
    "TIME_LIMIT_IN_SECONDS=1\n",
    "startdatetime='2023-01-01' # specify which period you want to get data for. \n",
    "enddatetime='2023-12-31'\n",
    "dataGranularityLevel='days'\n",
    "sc = spark.sparkContext\n",
    "noOfProcessors = multiprocessing.cpu_count()\n",
    "max_attempts = 1\n"
   ]
  },
  {
   "cell_type": "code",
   "execution_count": null,
   "id": "ed31bea4-46ce-4cd1-ab3c-3e6794086bd4",
   "metadata": {},
   "outputs": [],
   "source": [
    "def check_table_exist(db_tbl_name):\n",
    "    table_exist = False\n",
    "    try:\n",
    "        spark.read.table(db_tbl_name) # Check if spark can read the table\n",
    "        table_exist = True\n",
    "    except:\n",
    "        pass\n",
    "    return table_exist"
   ]
  },
  {
   "cell_type": "code",
   "execution_count": null,
   "id": "9431f42a-3336-47df-9962-6aae46ff91cf",
   "metadata": {},
   "outputs": [],
   "source": [
    "@sleep_and_retry\n",
    "@limits(calls=MAX_CALLS_PER_TIME_LIMIT, period=TIME_LIMIT_IN_SECONDS)\n",
    "def api_request(geocode):\n",
    "    BASE_URL = \"https://weather.visualcrossing.com/VisualCrossingWebServices/rest/services/timeline/{0}/{1}/{2}?unitGroup=metric&include={3}&key={4}&contentType=json\"\n",
    "    full_url = BASE_URL.format(geocode,startdatetime,enddatetime,dataGranularityLevel,client_secret_key)\n",
    "    \n",
    "    print(full_url)\n",
    "    attempts = 0\n",
    "\n",
    "    while attempts < max_attempts:\n",
    "        response = requests.get(full_url)\n",
    "\n",
    "        if response.status_code != 429 or response is None:\n",
    "            print(\" Status code - {} \\n  Response text - {} \\n *********************************************** \\n\" .format(response.status_code,response.text))\n",
    "            break\n",
    "        else :\n",
    "            print(\" Status code - {} \\n Response text - {} \\n ********************************************** \\n\" .format(response.status_code,response.text))     \n",
    "      \n",
    "        time.sleep((2 ** attempts))\n",
    "        attempts = attempts + 1\n",
    "    \n",
    "\n",
    "    if response.status_code != 200:\n",
    "        return {},response.status_code,response.text\n",
    "\n",
    "    response_json = response.json()\n",
    "    return response_json,response.status_code,\"Success\"\n"
   ]
  },
  {
   "cell_type": "code",
   "execution_count": null,
   "id": "fb935823-0642-4368-81d3-91d02479fd8a",
   "metadata": {},
   "outputs": [],
   "source": []
  }
 ],
 "metadata": {
  "kernelspec": {
   "display_name": "Python 3 (ipykernel)",
   "language": "python",
   "name": "python3"
  },
  "language_info": {
   "codemirror_mode": {
    "name": "ipython",
    "version": 3
   },
   "file_extension": ".py",
   "mimetype": "text/x-python",
   "name": "python",
   "nbconvert_exporter": "python",
   "pygments_lexer": "ipython3",
   "version": "3.12.4"
  }
 },
 "nbformat": 4,
 "nbformat_minor": 5
}
