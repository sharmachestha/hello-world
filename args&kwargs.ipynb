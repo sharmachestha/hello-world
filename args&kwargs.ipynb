{
 "cells": [
  {
   "cell_type": "code",
   "execution_count": 1,
   "id": "db1d06af-3d63-4921-a369-b0802eab5e82",
   "metadata": {},
   "outputs": [],
   "source": [
    "#args will convert all the arguments to a single tuple\n",
    "def func_1(*args):\n",
    "    for i in args:\n",
    "        print(i)"
   ]
  },
  {
   "cell_type": "code",
   "execution_count": 2,
   "id": "32a9fc9d-8e8e-4ddc-bf8c-4bb6307521cc",
   "metadata": {},
   "outputs": [
    {
     "name": "stdout",
     "output_type": "stream",
     "text": [
      "1\n",
      "(3, 4)\n",
      "5\n"
     ]
    }
   ],
   "source": [
    "func_1(1,(3,4),5)"
   ]
  },
  {
   "cell_type": "code",
   "execution_count": 3,
   "id": "eff649ca-e854-46c9-88e1-95e48f55937e",
   "metadata": {},
   "outputs": [],
   "source": [
    "#kwargs will convert all the arguments to a single dictionary\n",
    "def func_2(**kwargs):\n",
    "    for i in kwargs:\n",
    "        print(i,kwargs[i])"
   ]
  },
  {
   "cell_type": "code",
   "execution_count": 4,
   "id": "a8bda12e-9a16-4870-83ee-e696ebad10b5",
   "metadata": {},
   "outputs": [
    {
     "name": "stdout",
     "output_type": "stream",
     "text": [
      "name chestha\n",
      "gender female\n",
      "age 28\n"
     ]
    }
   ],
   "source": [
    "func_2(name='chestha',gender='female',age=28)"
   ]
  },
  {
   "cell_type": "code",
   "execution_count": null,
   "id": "e246ced0-3f0d-43ba-abe4-cd99c1cc93b8",
   "metadata": {},
   "outputs": [],
   "source": []
  }
 ],
 "metadata": {
  "kernelspec": {
   "display_name": "Python 3 (ipykernel)",
   "language": "python",
   "name": "python3"
  },
  "language_info": {
   "codemirror_mode": {
    "name": "ipython",
    "version": 3
   },
   "file_extension": ".py",
   "mimetype": "text/x-python",
   "name": "python",
   "nbconvert_exporter": "python",
   "pygments_lexer": "ipython3",
   "version": "3.12.4"
  }
 },
 "nbformat": 4,
 "nbformat_minor": 5
}
