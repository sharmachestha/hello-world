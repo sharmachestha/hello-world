{
 "cells": [
  {
   "cell_type": "code",
   "execution_count": 1,
   "id": "c4e27bc0-53c1-4bde-bc5b-7ef5d16ef019",
   "metadata": {},
   "outputs": [],
   "source": [
    "dict={'a':[1,2,3],'b':[\"aman\",\"man\"], 'c':[8,9,10]}"
   ]
  },
  {
   "cell_type": "code",
   "execution_count": 2,
   "id": "0facf2ef-f9f5-453b-84a6-d97b2dead761",
   "metadata": {},
   "outputs": [
    {
     "data": {
      "text/plain": [
       "{'a': [1, 2, 3], 'b': ['aman', 'man'], 'c': [8, 9, 10]}"
      ]
     },
     "execution_count": 2,
     "metadata": {},
     "output_type": "execute_result"
    }
   ],
   "source": [
    "dict"
   ]
  },
  {
   "cell_type": "code",
   "execution_count": 3,
   "id": "5141c6af-f6de-4d66-af4e-5663adf77211",
   "metadata": {},
   "outputs": [
    {
     "data": {
      "text/plain": [
       "[1, 2, 3]"
      ]
     },
     "execution_count": 3,
     "metadata": {},
     "output_type": "execute_result"
    }
   ],
   "source": [
    "# dictionary is ordered\n",
    "dict['a']"
   ]
  },
  {
   "cell_type": "code",
   "execution_count": 5,
   "id": "cd22b557-dc26-480f-a2eb-602187388538",
   "metadata": {},
   "outputs": [
    {
     "ename": "KeyError",
     "evalue": "slice('a', 'c', None)",
     "output_type": "error",
     "traceback": [
      "\u001b[1;31m---------------------------------------------------------------------------\u001b[0m",
      "\u001b[1;31mKeyError\u001b[0m                                  Traceback (most recent call last)",
      "Cell \u001b[1;32mIn[5], line 2\u001b[0m\n\u001b[0;32m      1\u001b[0m \u001b[38;5;66;03m#slicing doesn't exist \u001b[39;00m\n\u001b[1;32m----> 2\u001b[0m \u001b[38;5;28mdict\u001b[39m[\u001b[38;5;124m'\u001b[39m\u001b[38;5;124ma\u001b[39m\u001b[38;5;124m'\u001b[39m:\u001b[38;5;124m'\u001b[39m\u001b[38;5;124mc\u001b[39m\u001b[38;5;124m'\u001b[39m]\n",
      "\u001b[1;31mKeyError\u001b[0m: slice('a', 'c', None)"
     ]
    }
   ],
   "source": [
    "#slicing doesn't exist \n",
    "dict['a':'c']"
   ]
  },
  {
   "cell_type": "code",
   "execution_count": 6,
   "id": "91cca3d8-f6c4-49fe-a4a2-bea27e2a626c",
   "metadata": {},
   "outputs": [],
   "source": [
    "#dictionary is mutable \n",
    "dict['a']=[89,89]"
   ]
  },
  {
   "cell_type": "code",
   "execution_count": 7,
   "id": "aaa4da9a-63bd-4c5e-a283-06e4728546cc",
   "metadata": {},
   "outputs": [
    {
     "data": {
      "text/plain": [
       "{'a': [89, 89], 'b': ['aman', 'man'], 'c': [8, 9, 10]}"
      ]
     },
     "execution_count": 7,
     "metadata": {},
     "output_type": "execute_result"
    }
   ],
   "source": [
    "dict"
   ]
  },
  {
   "cell_type": "code",
   "execution_count": 8,
   "id": "30769a4d-839a-4399-92f4-925e31bf43e6",
   "metadata": {},
   "outputs": [],
   "source": [
    "dict['e']=[65,32]"
   ]
  },
  {
   "cell_type": "code",
   "execution_count": 9,
   "id": "9ba77c0d-b6b9-4526-9430-4a15509f43a2",
   "metadata": {},
   "outputs": [
    {
     "data": {
      "text/plain": [
       "{'a': [89, 89], 'b': ['aman', 'man'], 'c': [8, 9, 10], 'e': [65, 32]}"
      ]
     },
     "execution_count": 9,
     "metadata": {},
     "output_type": "execute_result"
    }
   ],
   "source": [
    "dict"
   ]
  },
  {
   "cell_type": "code",
   "execution_count": 10,
   "id": "ab0641f7-2c12-4f8b-a974-1a8e22868202",
   "metadata": {},
   "outputs": [],
   "source": [
    "#for a single element, we can use dict[key]=value"
   ]
  },
  {
   "cell_type": "code",
   "execution_count": 11,
   "id": "386d8fa3-4091-4c6b-9bab-3d3d6abf7bde",
   "metadata": {},
   "outputs": [],
   "source": [
    "#for more than one element, we have to use dict.update({})"
   ]
  },
  {
   "cell_type": "code",
   "execution_count": 12,
   "id": "c72a14f1-b373-4a70-b11a-d716653829e9",
   "metadata": {},
   "outputs": [],
   "source": [
    "dict.update({'z':[43,21],'a':['aman','pooja']})"
   ]
  },
  {
   "cell_type": "code",
   "execution_count": 13,
   "id": "0f4568c9-89f6-47ef-a361-e46cbcd7adf2",
   "metadata": {},
   "outputs": [
    {
     "data": {
      "text/plain": [
       "{'a': ['aman', 'pooja'],\n",
       " 'b': ['aman', 'man'],\n",
       " 'c': [8, 9, 10],\n",
       " 'e': [65, 32],\n",
       " 'z': [43, 21]}"
      ]
     },
     "execution_count": 13,
     "metadata": {},
     "output_type": "execute_result"
    }
   ],
   "source": [
    "dict"
   ]
  },
  {
   "cell_type": "code",
   "execution_count": 14,
   "id": "c7b952b5-9dc8-4027-afb8-c6cd9bd0415a",
   "metadata": {},
   "outputs": [],
   "source": [
    "# we can use .pop() and del to erase elements from dictionary"
   ]
  },
  {
   "cell_type": "code",
   "execution_count": 15,
   "id": "7e25e05e-d773-433f-8bda-6d968ecf52f7",
   "metadata": {},
   "outputs": [
    {
     "data": {
      "text/plain": [
       "[65, 32]"
      ]
     },
     "execution_count": 15,
     "metadata": {},
     "output_type": "execute_result"
    }
   ],
   "source": [
    "dict.pop('e')"
   ]
  },
  {
   "cell_type": "code",
   "execution_count": 16,
   "id": "ca7fc208-7a05-44f5-9e64-ec41e0dad678",
   "metadata": {},
   "outputs": [
    {
     "data": {
      "text/plain": [
       "{'a': ['aman', 'pooja'], 'b': ['aman', 'man'], 'c': [8, 9, 10], 'z': [43, 21]}"
      ]
     },
     "execution_count": 16,
     "metadata": {},
     "output_type": "execute_result"
    }
   ],
   "source": [
    "dict"
   ]
  },
  {
   "cell_type": "code",
   "execution_count": 17,
   "id": "ed131ec3-e0d7-4e02-a141-526d535eab70",
   "metadata": {},
   "outputs": [],
   "source": [
    "del dict['a']"
   ]
  },
  {
   "cell_type": "code",
   "execution_count": 18,
   "id": "b019c499-945d-4b1c-ae35-6164b6449400",
   "metadata": {},
   "outputs": [
    {
     "data": {
      "text/plain": [
       "{'b': ['aman', 'man'], 'c': [8, 9, 10], 'z': [43, 21]}"
      ]
     },
     "execution_count": 18,
     "metadata": {},
     "output_type": "execute_result"
    }
   ],
   "source": [
    "dict"
   ]
  },
  {
   "cell_type": "code",
   "execution_count": 19,
   "id": "fe6eb1ec-f7f8-4af4-a0e7-70ff5406d715",
   "metadata": {},
   "outputs": [],
   "source": [
    "dict.clear()"
   ]
  },
  {
   "cell_type": "code",
   "execution_count": null,
   "id": "9f3b042c-efc0-4435-b25b-1722be3f87ef",
   "metadata": {},
   "outputs": [],
   "source": []
  }
 ],
 "metadata": {
  "kernelspec": {
   "display_name": "Python 3 (ipykernel)",
   "language": "python",
   "name": "python3"
  },
  "language_info": {
   "codemirror_mode": {
    "name": "ipython",
    "version": 3
   },
   "file_extension": ".py",
   "mimetype": "text/x-python",
   "name": "python",
   "nbconvert_exporter": "python",
   "pygments_lexer": "ipython3",
   "version": "3.12.4"
  }
 },
 "nbformat": 4,
 "nbformat_minor": 5
}
