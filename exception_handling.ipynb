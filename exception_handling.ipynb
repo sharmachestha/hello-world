{
 "cells": [
  {
   "cell_type": "code",
   "execution_count": 3,
   "id": "efc1a568-9f9e-4acb-a697-99ccd5357cd7",
   "metadata": {},
   "outputs": [
    {
     "data": {
      "text/plain": [
       "'try:\\n    piece of code which can be or cannot be correct \\nexcept error_name:\\n    piece of code which will run if try block throws an error \\nelse:\\n    piece of code which will run if try block does not throw an error \\nfinally:\\n    piece of code which will run chahe kch error ho ya na ho'"
      ]
     },
     "execution_count": 3,
     "metadata": {},
     "output_type": "execute_result"
    }
   ],
   "source": [
    "\"\"\"try:\n",
    "    piece of code which can be or cannot be correct \n",
    "except error_name:\n",
    "    piece of code which will run if try block throws an error \n",
    "else:\n",
    "    piece of code which will run if try block does not throw an error \n",
    "finally:\n",
    "    piece of code which will run chahe kch error ho ya na ho\"\"\"\n",
    "    "
   ]
  },
  {
   "cell_type": "code",
   "execution_count": 5,
   "id": "07e1f06b-a5ee-472c-ac77-096cc5448663",
   "metadata": {},
   "outputs": [
    {
     "name": "stdin",
     "output_type": "stream",
     "text": [
      "Enter numerator:  12\n",
      "Enter denominator:  2\n"
     ]
    },
    {
     "name": "stdout",
     "output_type": "stream",
     "text": [
      "✅ Division successful. Result is: 6.0\n",
      "📌 This will always run — cleanup or closing resources here.\n"
     ]
    }
   ],
   "source": [
    "try:\n",
    "    num1 = int(input(\"Enter numerator: \"))\n",
    "    num2 = int(input(\"Enter denominator: \"))\n",
    "    result = num1 / num2\n",
    "except ZeroDivisionError:\n",
    "    print(\"❌ You cannot divide by zero.\")\n",
    "except ValueError:\n",
    "    print(\"❌ Please enter valid integers.\")\n",
    "else:\n",
    "    print(f\"✅ Division successful. Result is: {result}\")\n",
    "finally:\n",
    "    print(\"📌 This will always run — cleanup or closing resources here.\")\n"
   ]
  },
  {
   "cell_type": "code",
   "execution_count": null,
   "id": "f0e3b5ed-33b0-416a-8907-2121f050dbaf",
   "metadata": {},
   "outputs": [],
   "source": []
  }
 ],
 "metadata": {
  "kernelspec": {
   "display_name": "Python 3 (ipykernel)",
   "language": "python",
   "name": "python3"
  },
  "language_info": {
   "codemirror_mode": {
    "name": "ipython",
    "version": 3
   },
   "file_extension": ".py",
   "mimetype": "text/x-python",
   "name": "python",
   "nbconvert_exporter": "python",
   "pygments_lexer": "ipython3",
   "version": "3.12.4"
  }
 },
 "nbformat": 4,
 "nbformat_minor": 5
}
