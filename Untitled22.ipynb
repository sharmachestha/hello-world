{
 "cells": [
  {
   "cell_type": "code",
   "execution_count": 1,
   "id": "d58903b9-8dba-4213-8716-9475d761e068",
   "metadata": {},
   "outputs": [],
   "source": [
    "a=[1,2,3] "
   ]
  },
  {
   "cell_type": "code",
   "execution_count": 2,
   "id": "25fdb047-5fd3-4a3e-abd2-ecef66813037",
   "metadata": {},
   "outputs": [],
   "source": [
    "b=a"
   ]
  },
  {
   "cell_type": "code",
   "execution_count": 3,
   "id": "357f6f39-1ae1-4dbd-ac37-3076795a130a",
   "metadata": {},
   "outputs": [],
   "source": [
    "del a"
   ]
  },
  {
   "cell_type": "code",
   "execution_count": null,
   "id": "94cee27b-d050-4926-a80c-cf53a183e99b",
   "metadata": {},
   "outputs": [],
   "source": [
    "b"
   ]
  },
  {
   "cell_type": "code",
   "execution_count": null,
   "id": "e8239b20-0595-4c72-9ab8-f28c6babc691",
   "metadata": {},
   "outputs": [],
   "source": [
    "import copy\n",
    "a=[1,2,3]\n",
    "b=copy.copy(a)"
   ]
  },
  {
   "cell_type": "code",
   "execution_count": null,
   "id": "ef4d6b2c-a563-4501-a587-5ecf2f43ce06",
   "metadata": {},
   "outputs": [],
   "source": [
    "b"
   ]
  },
  {
   "cell_type": "code",
   "execution_count": null,
   "id": "06134f1c-f3ad-46ac-81d8-477107b5c039",
   "metadata": {},
   "outputs": [],
   "source": [
    "del a"
   ]
  },
  {
   "cell_type": "code",
   "execution_count": null,
   "id": "5ba2aacf-2724-433e-8ab0-78475b3c0e83",
   "metadata": {},
   "outputs": [],
   "source": [
    "b"
   ]
  },
  {
   "cell_type": "code",
   "execution_count": null,
   "id": "61860179-4ec9-48fc-b079-f056f5692fc0",
   "metadata": {},
   "outputs": [],
   "source": [
    "import copy\n",
    "a=[1,2,3]\n",
    "b=copy.deepcopy(a)"
   ]
  },
  {
   "cell_type": "code",
   "execution_count": null,
   "id": "fe777253-f8b7-44a1-9326-89bb49173197",
   "metadata": {},
   "outputs": [],
   "source": [
    "b"
   ]
  },
  {
   "cell_type": "code",
   "execution_count": null,
   "id": "c8c6f962-139e-4264-b569-35dc56d8bcb8",
   "metadata": {},
   "outputs": [],
   "source": [
    "del a"
   ]
  },
  {
   "cell_type": "code",
   "execution_count": null,
   "id": "c23ad61e-dd6f-4f54-8641-057eb41ae23f",
   "metadata": {},
   "outputs": [],
   "source": [
    "b"
   ]
  },
  {
   "cell_type": "code",
   "execution_count": null,
   "id": "0a049ad7-8de0-4f8c-a688-63ccec6a9143",
   "metadata": {},
   "outputs": [],
   "source": []
  },
  {
   "cell_type": "code",
   "execution_count": null,
   "id": "9a079c9b-ae50-4b67-88cc-c4269a963070",
   "metadata": {},
   "outputs": [],
   "source": []
  },
  {
   "cell_type": "code",
   "execution_count": null,
   "id": "48f86a6e-6fb1-4e45-9d4b-a5e56e25f0ef",
   "metadata": {},
   "outputs": [],
   "source": []
  }
 ],
 "metadata": {
  "kernelspec": {
   "display_name": "Python 3 (ipykernel)",
   "language": "python",
   "name": "python3"
  },
  "language_info": {
   "codemirror_mode": {
    "name": "ipython",
    "version": 3
   },
   "file_extension": ".py",
   "mimetype": "text/x-python",
   "name": "python",
   "nbconvert_exporter": "python",
   "pygments_lexer": "ipython3",
   "version": "3.12.4"
  }
 },
 "nbformat": 4,
 "nbformat_minor": 5
}
