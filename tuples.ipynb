{
 "cells": [
  {
   "cell_type": "code",
   "execution_count": 3,
   "id": "925b1fa0-bf11-415d-9dd3-fd368faff155",
   "metadata": {},
   "outputs": [],
   "source": [
    "tup_1=(1,2,3)"
   ]
  },
  {
   "cell_type": "code",
   "execution_count": 6,
   "id": "17028f52-ebd7-46d2-9a44-79b82070d763",
   "metadata": {},
   "outputs": [
    {
     "data": {
      "text/plain": [
       "1"
      ]
     },
     "execution_count": 6,
     "metadata": {},
     "output_type": "execute_result"
    }
   ],
   "source": [
    "# A tuple is always ordered\n",
    "tup_1[0]"
   ]
  },
  {
   "cell_type": "code",
   "execution_count": 7,
   "id": "f50f7b29-9cd7-4879-beef-b30bff5af65b",
   "metadata": {},
   "outputs": [
    {
     "data": {
      "text/plain": [
       "(1, 2)"
      ]
     },
     "execution_count": 7,
     "metadata": {},
     "output_type": "execute_result"
    }
   ],
   "source": [
    "tup_1[0:2]"
   ]
  },
  {
   "cell_type": "code",
   "execution_count": 9,
   "id": "8995fc8d-8325-4f35-8e46-a2743c0859ac",
   "metadata": {},
   "outputs": [
    {
     "ename": "TypeError",
     "evalue": "'tuple' object does not support item assignment",
     "output_type": "error",
     "traceback": [
      "\u001b[1;31m---------------------------------------------------------------------------\u001b[0m",
      "\u001b[1;31mTypeError\u001b[0m                                 Traceback (most recent call last)",
      "Cell \u001b[1;32mIn[9], line 2\u001b[0m\n\u001b[0;32m      1\u001b[0m \u001b[38;5;66;03m# A tuple is immutable \u001b[39;00m\n\u001b[1;32m----> 2\u001b[0m tup_1[\u001b[38;5;241m1\u001b[39m]\u001b[38;5;241m=\u001b[39m\u001b[38;5;241m98\u001b[39m\n",
      "\u001b[1;31mTypeError\u001b[0m: 'tuple' object does not support item assignment"
     ]
    }
   ],
   "source": [
    "# A tuple is immutable \n",
    "tup_1[1]=98"
   ]
  },
  {
   "cell_type": "code",
   "execution_count": 10,
   "id": "abe90ff6-328e-4d65-a2af-ca76f57172d4",
   "metadata": {},
   "outputs": [],
   "source": [
    "# we can't use append,insert, extend, pop, remove and delete operation in a tuple since tuples are immutable."
   ]
  },
  {
   "cell_type": "code",
   "execution_count": 11,
   "id": "ce914445-50c1-417b-8dae-491d7f3516c9",
   "metadata": {},
   "outputs": [],
   "source": [
    "tup_2=(1,1,2,4,6,7,8,8)"
   ]
  },
  {
   "cell_type": "code",
   "execution_count": 12,
   "id": "e9fd7481-b185-404e-8b62-d1639ee8998a",
   "metadata": {},
   "outputs": [
    {
     "data": {
      "text/plain": [
       "2"
      ]
     },
     "execution_count": 12,
     "metadata": {},
     "output_type": "execute_result"
    }
   ],
   "source": [
    "tup_2.count(1)"
   ]
  },
  {
   "cell_type": "code",
   "execution_count": 13,
   "id": "dae5609d-d5ed-47bc-8051-ffe64e344ce4",
   "metadata": {},
   "outputs": [
    {
     "data": {
      "text/plain": [
       "3"
      ]
     },
     "execution_count": 13,
     "metadata": {},
     "output_type": "execute_result"
    }
   ],
   "source": [
    "tup_2.index(4)"
   ]
  },
  {
   "cell_type": "code",
   "execution_count": 14,
   "id": "9fca76b1-52c4-420e-97bd-992d5063acc0",
   "metadata": {},
   "outputs": [
    {
     "data": {
      "text/plain": [
       "8"
      ]
     },
     "execution_count": 14,
     "metadata": {},
     "output_type": "execute_result"
    }
   ],
   "source": [
    "len(tup_2)"
   ]
  },
  {
   "cell_type": "code",
   "execution_count": 15,
   "id": "ce85e0fd-cc69-4522-acea-364f5b8736ae",
   "metadata": {},
   "outputs": [],
   "source": [
    "#Tuples can be used as a dictionary key because tuples are immutable."
   ]
  },
  {
   "cell_type": "code",
   "execution_count": null,
   "id": "f8ea7112-ac43-4205-b639-267f10859aeb",
   "metadata": {},
   "outputs": [],
   "source": []
  }
 ],
 "metadata": {
  "kernelspec": {
   "display_name": "Python 3 (ipykernel)",
   "language": "python",
   "name": "python3"
  },
  "language_info": {
   "codemirror_mode": {
    "name": "ipython",
    "version": 3
   },
   "file_extension": ".py",
   "mimetype": "text/x-python",
   "name": "python",
   "nbconvert_exporter": "python",
   "pygments_lexer": "ipython3",
   "version": "3.12.4"
  }
 },
 "nbformat": 4,
 "nbformat_minor": 5
}
