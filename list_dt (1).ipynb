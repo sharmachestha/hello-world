{
 "cells": [
  {
   "cell_type": "code",
   "execution_count": 1,
   "id": "5137cfbe-7541-4ab5-a545-23076e249083",
   "metadata": {},
   "outputs": [],
   "source": [
    "#List"
   ]
  },
  {
   "cell_type": "code",
   "execution_count": 2,
   "id": "9affada0-b403-448c-8d95-3762ba03995a",
   "metadata": {},
   "outputs": [],
   "source": [
    "#List is ordered - we can do ops like slicing and indexing in a list.\n",
    "ls=[1,2,3]"
   ]
  },
  {
   "cell_type": "code",
   "execution_count": 3,
   "id": "d765abf3-8473-4523-bd0f-981d9d9b4ff0",
   "metadata": {},
   "outputs": [],
   "source": [
    "ls=list([1,2,3])"
   ]
  },
  {
   "cell_type": "code",
   "execution_count": 4,
   "id": "80c923f9-be3d-455f-b3ed-b10ed07dfe32",
   "metadata": {},
   "outputs": [
    {
     "data": {
      "text/plain": [
       "[1, 2, 3]"
      ]
     },
     "execution_count": 4,
     "metadata": {},
     "output_type": "execute_result"
    }
   ],
   "source": [
    "ls"
   ]
  },
  {
   "cell_type": "code",
   "execution_count": 5,
   "id": "29c7d9c3-f84b-4b09-89c7-6071a0897148",
   "metadata": {},
   "outputs": [],
   "source": [
    "ls.extend([90,90])"
   ]
  },
  {
   "cell_type": "code",
   "execution_count": 6,
   "id": "19432c21-d88a-4855-ab5f-343cc0ea9f99",
   "metadata": {},
   "outputs": [
    {
     "data": {
      "text/plain": [
       "[1, 2, 3, 90, 90]"
      ]
     },
     "execution_count": 6,
     "metadata": {},
     "output_type": "execute_result"
    }
   ],
   "source": [
    "ls"
   ]
  },
  {
   "cell_type": "code",
   "execution_count": 7,
   "id": "720d5445-b70d-4a0a-9488-a7b8fa48dee1",
   "metadata": {},
   "outputs": [],
   "source": [
    "ls.append([90,90])"
   ]
  },
  {
   "cell_type": "code",
   "execution_count": 8,
   "id": "e7686b64-4dd2-4bb8-9155-c75026266700",
   "metadata": {},
   "outputs": [
    {
     "data": {
      "text/plain": [
       "[1, 2, 3, 90, 90, [90, 90]]"
      ]
     },
     "execution_count": 8,
     "metadata": {},
     "output_type": "execute_result"
    }
   ],
   "source": [
    "ls"
   ]
  },
  {
   "cell_type": "code",
   "execution_count": 9,
   "id": "c916eef5-709f-4f03-9ff8-5a1350d24512",
   "metadata": {},
   "outputs": [
    {
     "data": {
      "text/plain": [
       "1"
      ]
     },
     "execution_count": 9,
     "metadata": {},
     "output_type": "execute_result"
    }
   ],
   "source": [
    "ls[0]"
   ]
  },
  {
   "cell_type": "code",
   "execution_count": 10,
   "id": "243b2258-5631-43a9-845a-241fad36a36f",
   "metadata": {},
   "outputs": [
    {
     "data": {
      "text/plain": [
       "[1, 2]"
      ]
     },
     "execution_count": 10,
     "metadata": {},
     "output_type": "execute_result"
    }
   ],
   "source": [
    "ls[0:2]"
   ]
  },
  {
   "cell_type": "code",
   "execution_count": 11,
   "id": "4d0778cf-0061-4bb6-9d1b-3401936532ae",
   "metadata": {},
   "outputs": [],
   "source": [
    "#list is mutable - we can change the elements of a list."
   ]
  },
  {
   "cell_type": "code",
   "execution_count": null,
   "id": "88814281-5324-4950-b46c-2daeba55adcc",
   "metadata": {},
   "outputs": [],
   "source": [
    "ls[1]=\"chestha\""
   ]
  },
  {
   "cell_type": "code",
   "execution_count": null,
   "id": "3f55b51e-16b3-48d4-9b2e-5583adb47bed",
   "metadata": {},
   "outputs": [],
   "source": [
    "ls"
   ]
  },
  {
   "cell_type": "code",
   "execution_count": null,
   "id": "230d04e7-e1b5-4507-a69f-0c23737e627f",
   "metadata": {},
   "outputs": [],
   "source": [
    "# Append - is for adding a single element at the end of the list \n",
    "ls.append([1,2,3])"
   ]
  },
  {
   "cell_type": "code",
   "execution_count": null,
   "id": "a2482418-2515-492c-95f9-e82e68f1d5c4",
   "metadata": {},
   "outputs": [],
   "source": [
    "ls"
   ]
  },
  {
   "cell_type": "code",
   "execution_count": null,
   "id": "4cd2653b-b839-4f95-86f7-2b24b55851e9",
   "metadata": {},
   "outputs": [],
   "source": [
    "# Extend - is for adding more than 1 element at the end of the list\n",
    "ls.extend([3,(('a','b'),),{\"a\":[7,8]}])"
   ]
  },
  {
   "cell_type": "code",
   "execution_count": null,
   "id": "34269476-da80-41ac-add4-7aa7e608fb90",
   "metadata": {},
   "outputs": [],
   "source": [
    "ls"
   ]
  },
  {
   "cell_type": "code",
   "execution_count": null,
   "id": "ef7529e6-63d9-4aa8-9376-bc4d8272d05e",
   "metadata": {},
   "outputs": [],
   "source": [
    "# insert - will insert element in a list at a particular index\n",
    "ls.insert(1,\"ramennoodles\")"
   ]
  },
  {
   "cell_type": "code",
   "execution_count": null,
   "id": "5ea4006f-0dff-42a5-8ba9-50b1e3c568a4",
   "metadata": {},
   "outputs": [],
   "source": [
    "ls"
   ]
  },
  {
   "cell_type": "code",
   "execution_count": null,
   "id": "115f874b-87d9-4a49-9021-09210107e4fc",
   "metadata": {},
   "outputs": [],
   "source": [
    "# Deleting elements in a list"
   ]
  },
  {
   "cell_type": "code",
   "execution_count": null,
   "id": "7af4cb00-dd9d-46c7-bd27-2c5c730ef1f0",
   "metadata": {},
   "outputs": [],
   "source": [
    "# pop and del will erase elements from a list by using the index.pop can also secure the removed element \n",
    "return_e = ls.pop(1)"
   ]
  },
  {
   "cell_type": "code",
   "execution_count": null,
   "id": "cc8f69d1-58a4-4e6d-814f-bd2ca36bb07f",
   "metadata": {},
   "outputs": [],
   "source": [
    "# remove will remove the element from the list by explicitly specifying the element \n",
    "ls.remove({'a':[7,8]})"
   ]
  },
  {
   "cell_type": "code",
   "execution_count": null,
   "id": "94421246-93c5-433a-8dd3-5b5536f3af77",
   "metadata": {},
   "outputs": [],
   "source": [
    "ls"
   ]
  },
  {
   "cell_type": "code",
   "execution_count": null,
   "id": "062e4377-d00b-43ec-89f7-edf3aaa3cbbf",
   "metadata": {},
   "outputs": [],
   "source": [
    "ls=[1,9,1,1]"
   ]
  },
  {
   "cell_type": "code",
   "execution_count": null,
   "id": "3fddf5de-2411-4250-8c6e-d86e19b66b53",
   "metadata": {},
   "outputs": [],
   "source": [
    "ls.remove(1)"
   ]
  },
  {
   "cell_type": "code",
   "execution_count": null,
   "id": "db9d0a07-e569-413e-91b5-518e336ef947",
   "metadata": {},
   "outputs": [],
   "source": [
    "ls"
   ]
  },
  {
   "cell_type": "code",
   "execution_count": null,
   "id": "3b906957-96c7-42f8-8cda-e43352b089b5",
   "metadata": {},
   "outputs": [],
   "source": [
    "# arranging elements of a list \n",
    "\n",
    "ls1 = [89, 0, 66,12,3]"
   ]
  },
  {
   "cell_type": "code",
   "execution_count": null,
   "id": "cd43608e-edcb-43a9-b83e-e96f48372500",
   "metadata": {},
   "outputs": [],
   "source": [
    "# using sort - it will sort the original list \n",
    "# .sort() will sort the list in ascending order\n",
    "ls1.sort()"
   ]
  },
  {
   "cell_type": "code",
   "execution_count": null,
   "id": "ee3a1ae6-fe3b-45d0-afd7-1afbe42bfe36",
   "metadata": {},
   "outputs": [],
   "source": [
    "ls1"
   ]
  },
  {
   "cell_type": "code",
   "execution_count": null,
   "id": "6f48fa31-6a1c-4a0f-96e8-db3f00735480",
   "metadata": {},
   "outputs": [],
   "source": [
    "# .sort( reverse=True) will sort the list in descending order \n",
    "ls1.sort(reverse=True)"
   ]
  },
  {
   "cell_type": "code",
   "execution_count": null,
   "id": "89d504d2-7e4c-46a8-bfa8-34338778e5db",
   "metadata": {},
   "outputs": [],
   "source": [
    "ls1"
   ]
  },
  {
   "cell_type": "code",
   "execution_count": null,
   "id": "a381db7d-35c0-445c-90a5-3b9139406c63",
   "metadata": {},
   "outputs": [],
   "source": [
    "# sorted() - it will store the sorted list and it will not sort the original list. it will sort the list in ascending order .\n",
    "sam=sorted(ls1)"
   ]
  },
  {
   "cell_type": "code",
   "execution_count": null,
   "id": "ffe78ef7-e09e-4709-a1cd-3257a2ba76ab",
   "metadata": {},
   "outputs": [],
   "source": [
    "sam"
   ]
  },
  {
   "cell_type": "code",
   "execution_count": null,
   "id": "044d9e0e-8a60-4e7c-b8c3-f5a06c97af33",
   "metadata": {},
   "outputs": [],
   "source": [
    "ls1"
   ]
  },
  {
   "cell_type": "code",
   "execution_count": null,
   "id": "14bf9b47-a6cf-4300-8115-76264aaab94c",
   "metadata": {},
   "outputs": [],
   "source": [
    "sam_r = sorted(ls1,reverse=True)"
   ]
  },
  {
   "cell_type": "code",
   "execution_count": null,
   "id": "ae89a33a-9ae4-43f5-9ae1-0b359712328e",
   "metadata": {},
   "outputs": [],
   "source": [
    "sam_r"
   ]
  },
  {
   "cell_type": "code",
   "execution_count": null,
   "id": "e83eede2-71f7-4d11-a10b-7e9959dc4d0a",
   "metadata": {},
   "outputs": [],
   "source": [
    "ls1"
   ]
  },
  {
   "cell_type": "code",
   "execution_count": null,
   "id": "9af269df-a211-4f93-adb0-0c6702b6d99e",
   "metadata": {},
   "outputs": [],
   "source": [
    "#.reverse() function is used to reverse the order of list - mtlb actually list k order ko reverse krdeta hai \n",
    "ls1.reverse()"
   ]
  },
  {
   "cell_type": "code",
   "execution_count": null,
   "id": "009a2ecb-f0c0-4254-b95d-6527f2746250",
   "metadata": {},
   "outputs": [],
   "source": [
    "ls1"
   ]
  },
  {
   "cell_type": "code",
   "execution_count": null,
   "id": "21b833e6-ed2c-4b9c-87fe-a2babe03930b",
   "metadata": {},
   "outputs": [],
   "source": [
    "# arranging elements of a list \n",
    "\n",
    "ls1"
   ]
  },
  {
   "cell_type": "code",
   "execution_count": null,
   "id": "64b2f6c1-90ba-438c-89dd-3a14b6703bf0",
   "metadata": {},
   "outputs": [],
   "source": [
    "#Note - there is no function like reverse(list), like we have for sorted()"
   ]
  },
  {
   "cell_type": "code",
   "execution_count": null,
   "id": "83ec5abd-85d7-4be2-80dd-11a74cfca467",
   "metadata": {},
   "outputs": [],
   "source": [
    "ls1.clear()"
   ]
  },
  {
   "cell_type": "code",
   "execution_count": null,
   "id": "8ddc75d7-bdaf-4862-8923-1ce3b9a6e051",
   "metadata": {},
   "outputs": [],
   "source": [
    "ls1"
   ]
  },
  {
   "cell_type": "code",
   "execution_count": null,
   "id": "a8ae1576-2e59-4c58-965f-7fe8503e7053",
   "metadata": {},
   "outputs": [],
   "source": [
    "ls1"
   ]
  },
  {
   "cell_type": "code",
   "execution_count": 12,
   "id": "c13e200e-73f5-4bbf-9fc1-abf6c92450d3",
   "metadata": {},
   "outputs": [],
   "source": [
    "#List Comprehenshion\n",
    "numbers=[1,2,3,4,5]\n",
    "squares=[x*2 for x in numbers]"
   ]
  },
  {
   "cell_type": "code",
   "execution_count": 13,
   "id": "69a8bb59-ff65-4d59-9a34-eb14afa10731",
   "metadata": {},
   "outputs": [
    {
     "data": {
      "text/plain": [
       "[2, 4, 6, 8, 10]"
      ]
     },
     "execution_count": 13,
     "metadata": {},
     "output_type": "execute_result"
    }
   ],
   "source": [
    "squares"
   ]
  },
  {
   "cell_type": "code",
   "execution_count": 14,
   "id": "c6e9030a-28fd-4514-8a04-c9a07eca7bdd",
   "metadata": {},
   "outputs": [],
   "source": [
    "words=[\"apple\",\"banana\",\"cherry\"]\n",
    "uppercased=[x.upper() for x in words]"
   ]
  },
  {
   "cell_type": "code",
   "execution_count": 15,
   "id": "54cd5a7f-49b5-4cd1-918d-8ef672d5c779",
   "metadata": {},
   "outputs": [
    {
     "data": {
      "text/plain": [
       "['APPLE', 'BANANA', 'CHERRY']"
      ]
     },
     "execution_count": 15,
     "metadata": {},
     "output_type": "execute_result"
    }
   ],
   "source": [
    "uppercased"
   ]
  },
  {
   "cell_type": "code",
   "execution_count": 16,
   "id": "4972179d-1e51-4466-af41-52a065988808",
   "metadata": {},
   "outputs": [],
   "source": [
    "numbers=[1,2,3,4,5,6]\n",
    "evens=[x for x in numbers if x%2==0]"
   ]
  },
  {
   "cell_type": "code",
   "execution_count": 17,
   "id": "3295892f-0058-4415-9e5c-4cd5dccd6427",
   "metadata": {},
   "outputs": [],
   "source": [
    "numbers=[10,15,20,25,30]\n",
    "result=[ \"small\" if n<15 else \"large\" if n<25 else \"very large\" for n in numbers]"
   ]
  },
  {
   "cell_type": "code",
   "execution_count": null,
   "id": "e0e3bbab-cefb-4e82-b60f-b525e594a2bc",
   "metadata": {},
   "outputs": [],
   "source": []
  },
  {
   "cell_type": "code",
   "execution_count": null,
   "id": "a9bef368-fef5-4055-acc1-f0a7a73b1102",
   "metadata": {},
   "outputs": [],
   "source": []
  }
 ],
 "metadata": {
  "kernelspec": {
   "display_name": "Python 3 (ipykernel)",
   "language": "python",
   "name": "python3"
  },
  "language_info": {
   "codemirror_mode": {
    "name": "ipython",
    "version": 3
   },
   "file_extension": ".py",
   "mimetype": "text/x-python",
   "name": "python",
   "nbconvert_exporter": "python",
   "pygments_lexer": "ipython3",
   "version": "3.12.4"
  }
 },
 "nbformat": 4,
 "nbformat_minor": 5
}
