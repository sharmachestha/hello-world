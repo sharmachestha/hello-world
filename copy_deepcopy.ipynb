{
 "cells": [
  {
   "cell_type": "code",
   "execution_count": 1,
   "id": "1e93f6c5-e245-4cf0-958f-004362113f7f",
   "metadata": {},
   "outputs": [],
   "source": [
    "a=[[1,2],[3,4]]"
   ]
  },
  {
   "cell_type": "code",
   "execution_count": 2,
   "id": "7efc492f-07d8-4530-a3e9-947ea489082f",
   "metadata": {},
   "outputs": [],
   "source": [
    "import copy\n",
    "b1=a #b1 will change\n",
    "b2=copy.copy(a) # b2 will change\n",
    "b3=copy.deepcopy(a) #b3 will not change\n",
    "# a will change"
   ]
  },
  {
   "cell_type": "code",
   "execution_count": 3,
   "id": "fc6d5e82-02e5-4ef0-9211-63cfb1cd7150",
   "metadata": {},
   "outputs": [],
   "source": [
    "b1[0][0]=100"
   ]
  },
  {
   "cell_type": "code",
   "execution_count": 4,
   "id": "cfcef7ef-e84a-4561-9f23-a4d2c3d49a12",
   "metadata": {},
   "outputs": [
    {
     "name": "stdout",
     "output_type": "stream",
     "text": [
      "a: [[100, 2], [3, 4]]\n",
      "b1: [[100, 2], [3, 4]]\n",
      "b2: [[100, 2], [3, 4]]\n",
      "b3: [[1, 2], [3, 4]]\n"
     ]
    }
   ],
   "source": [
    "print(\"a:\",a)\n",
    "print(\"b1:\",b1)\n",
    "print(\"b2:\",b2)\n",
    "print(\"b3:\",b3)"
   ]
  },
  {
   "cell_type": "code",
   "execution_count": 5,
   "id": "90096a71-8ece-4a4c-a098-4aee32a63d53",
   "metadata": {},
   "outputs": [],
   "source": [
    "a=[[1,2],[3,4]]"
   ]
  },
  {
   "cell_type": "code",
   "execution_count": 6,
   "id": "cbdf8419-545c-4997-aa06-35b79d91934d",
   "metadata": {},
   "outputs": [],
   "source": [
    "import copy\n",
    "b1=a #b1 will change\n",
    "b2=copy.copy(a) # b2 will change\n",
    "b3=copy.deepcopy(a) #b3 will not change\n",
    "# a will change"
   ]
  },
  {
   "cell_type": "code",
   "execution_count": 7,
   "id": "bccb0bb1-ed98-4012-956f-7fcdfe258f25",
   "metadata": {},
   "outputs": [],
   "source": [
    "b2[0][0]=100"
   ]
  },
  {
   "cell_type": "code",
   "execution_count": 8,
   "id": "4837461a-dd39-43d4-8e93-98017c18841a",
   "metadata": {},
   "outputs": [
    {
     "name": "stdout",
     "output_type": "stream",
     "text": [
      "a: [[100, 2], [3, 4]]\n",
      "b1: [[100, 2], [3, 4]]\n",
      "b2: [[100, 2], [3, 4]]\n",
      "b3: [[1, 2], [3, 4]]\n"
     ]
    }
   ],
   "source": [
    "print(\"a:\",a)\n",
    "print(\"b1:\",b1)\n",
    "print(\"b2:\",b2)\n",
    "print(\"b3:\",b3)"
   ]
  },
  {
   "cell_type": "code",
   "execution_count": 9,
   "id": "503a7a2d-ba77-4abf-b8e8-37313b35efd9",
   "metadata": {},
   "outputs": [],
   "source": [
    "a=[[1,2],[3,4]]"
   ]
  },
  {
   "cell_type": "code",
   "execution_count": 10,
   "id": "3ece4d17-2485-4e2c-94df-1b5badbfd0d6",
   "metadata": {},
   "outputs": [],
   "source": [
    "import copy\n",
    "b1=a # b1 will not change\n",
    "b2=copy.copy(a) #a will not change\n",
    "b3=copy.deepcopy(a) #b3 will change \n",
    "#a will not change \n"
   ]
  },
  {
   "cell_type": "code",
   "execution_count": 11,
   "id": "69490077-c4e3-43a5-a0b8-c2f5be11f2bd",
   "metadata": {},
   "outputs": [],
   "source": [
    "b3[0][0]=100"
   ]
  },
  {
   "cell_type": "code",
   "execution_count": 12,
   "id": "de7f292a-3370-4391-a08b-e424ddfbd708",
   "metadata": {},
   "outputs": [
    {
     "name": "stdout",
     "output_type": "stream",
     "text": [
      "a: [[1, 2], [3, 4]]\n",
      "b1: [[1, 2], [3, 4]]\n",
      "b2: [[1, 2], [3, 4]]\n",
      "b3: [[100, 2], [3, 4]]\n"
     ]
    }
   ],
   "source": [
    "print(\"a:\",a)\n",
    "print(\"b1:\",b1)\n",
    "print(\"b2:\",b2)\n",
    "print(\"b3:\",b3)"
   ]
  },
  {
   "cell_type": "code",
   "execution_count": 13,
   "id": "74b7a080-7c1a-4b71-8be8-1df9cd006d34",
   "metadata": {},
   "outputs": [],
   "source": [
    "a=[1,[2,3],[4,5]]"
   ]
  },
  {
   "cell_type": "code",
   "execution_count": 14,
   "id": "5429fe84-b1b2-481d-a666-87e106080997",
   "metadata": {},
   "outputs": [],
   "source": [
    "import copy\n",
    "b1=a #b1 will change\n",
    "b2=copy.copy(a) # b2 will not change\n",
    "b3=copy.deepcopy(a) # b3 will not change\n",
    "# a will change"
   ]
  },
  {
   "cell_type": "code",
   "execution_count": 15,
   "id": "ea6fabfc-2d80-4d66-90a5-4c4f557d7e50",
   "metadata": {},
   "outputs": [],
   "source": [
    "b1[0]=100"
   ]
  },
  {
   "cell_type": "code",
   "execution_count": 16,
   "id": "a6ae8e8f-eb34-4305-922a-f775813b9a2d",
   "metadata": {},
   "outputs": [
    {
     "name": "stdout",
     "output_type": "stream",
     "text": [
      "a: [100, [2, 3], [4, 5]]\n",
      "b1: [100, [2, 3], [4, 5]]\n",
      "b2: [1, [2, 3], [4, 5]]\n",
      "b3: [1, [2, 3], [4, 5]]\n"
     ]
    }
   ],
   "source": [
    "print(\"a:\",a)\n",
    "print(\"b1:\",b1)\n",
    "print(\"b2:\",b2)\n",
    "print(\"b3:\",b3)"
   ]
  },
  {
   "cell_type": "code",
   "execution_count": 17,
   "id": "d2a912b9-d606-462e-930d-f9c3a6ae9502",
   "metadata": {},
   "outputs": [],
   "source": [
    "a=[1,[2,3],[4,5]]"
   ]
  },
  {
   "cell_type": "code",
   "execution_count": 18,
   "id": "5a8d964c-5bb7-4e5f-bde1-c48afdfe4c67",
   "metadata": {},
   "outputs": [],
   "source": [
    "import copy\n",
    "b1=a # b1 will not change\n",
    "b2=copy.copy(a) #[b2 will change]\n",
    "b3=copy.deepcopy(a) # b3 will not change\n",
    "# a will not change"
   ]
  },
  {
   "cell_type": "code",
   "execution_count": 19,
   "id": "764d0ff6-09b2-42ef-8568-845f270e7461",
   "metadata": {},
   "outputs": [],
   "source": [
    "b2[0]=100"
   ]
  },
  {
   "cell_type": "code",
   "execution_count": 20,
   "id": "35cabeba-acd3-4e56-82cf-6bcec3b1731c",
   "metadata": {},
   "outputs": [
    {
     "name": "stdout",
     "output_type": "stream",
     "text": [
      "a: [1, [2, 3], [4, 5]]\n",
      "b1: [1, [2, 3], [4, 5]]\n",
      "b2: [100, [2, 3], [4, 5]]\n",
      "b3: [1, [2, 3], [4, 5]]\n"
     ]
    }
   ],
   "source": [
    "print(\"a:\",a)\n",
    "print(\"b1:\",b1)\n",
    "print(\"b2:\",b2)\n",
    "print(\"b3:\",b3)"
   ]
  },
  {
   "cell_type": "code",
   "execution_count": 21,
   "id": "042a7058-4f85-4ad6-b727-3d59d43ddeba",
   "metadata": {},
   "outputs": [],
   "source": [
    "a=[1,[2,3],[4,5]]"
   ]
  },
  {
   "cell_type": "code",
   "execution_count": 22,
   "id": "a1ebf0cc-1ed1-4880-83db-4b0310dac708",
   "metadata": {},
   "outputs": [],
   "source": [
    "import copy\n",
    "b1=a # b1 will not change\n",
    "b2=copy.copy(a) #[b2 will not change]\n",
    "b3=copy.deepcopy(a) # b3 will change\n",
    "# a will not change"
   ]
  },
  {
   "cell_type": "code",
   "execution_count": 23,
   "id": "c8b1a77d-9cf4-4bfa-a94d-67b439bb77f8",
   "metadata": {},
   "outputs": [],
   "source": [
    "b3[0]=100"
   ]
  },
  {
   "cell_type": "code",
   "execution_count": 24,
   "id": "97f7b5a4-b0b1-4ed2-abd4-f8acde8d18ff",
   "metadata": {},
   "outputs": [
    {
     "name": "stdout",
     "output_type": "stream",
     "text": [
      "a: [1, [2, 3], [4, 5]]\n",
      "b1: [1, [2, 3], [4, 5]]\n",
      "b2: [1, [2, 3], [4, 5]]\n",
      "b3: [100, [2, 3], [4, 5]]\n"
     ]
    }
   ],
   "source": [
    "print(\"a:\",a)\n",
    "print(\"b1:\",b1)\n",
    "print(\"b2:\",b2)\n",
    "print(\"b3:\",b3)"
   ]
  },
  {
   "cell_type": "code",
   "execution_count": null,
   "id": "b7185e0d-498d-45a4-803b-3ff61946ada3",
   "metadata": {},
   "outputs": [],
   "source": []
  },
  {
   "cell_type": "code",
   "execution_count": null,
   "id": "8bf01170-1686-4ef7-a449-f6473cc10024",
   "metadata": {},
   "outputs": [],
   "source": []
  },
  {
   "cell_type": "code",
   "execution_count": null,
   "id": "feada9ed-a044-4745-8b56-b24988c3b567",
   "metadata": {},
   "outputs": [],
   "source": []
  },
  {
   "cell_type": "code",
   "execution_count": null,
   "id": "ad2be968-21d8-44e9-a484-a0633c360343",
   "metadata": {},
   "outputs": [],
   "source": []
  },
  {
   "cell_type": "code",
   "execution_count": null,
   "id": "562d042d-7033-4ad9-8bfd-2d1ad6ff2185",
   "metadata": {},
   "outputs": [],
   "source": []
  },
  {
   "cell_type": "code",
   "execution_count": null,
   "id": "738fd55a-ab74-4b44-84dc-d80064149590",
   "metadata": {},
   "outputs": [],
   "source": []
  },
  {
   "cell_type": "code",
   "execution_count": null,
   "id": "cca0d862-a43a-454e-beb9-d9ce053c6120",
   "metadata": {},
   "outputs": [],
   "source": []
  },
  {
   "cell_type": "code",
   "execution_count": null,
   "id": "67568b56-5541-4f05-a9b2-1ad85674f2d2",
   "metadata": {},
   "outputs": [],
   "source": []
  },
  {
   "cell_type": "code",
   "execution_count": null,
   "id": "3a78fcf0-9ba0-4d47-a386-5af3fc0fa653",
   "metadata": {},
   "outputs": [],
   "source": []
  },
  {
   "cell_type": "code",
   "execution_count": null,
   "id": "e19cc141-8372-4c9e-953c-c196eaa6e2d3",
   "metadata": {},
   "outputs": [],
   "source": []
  },
  {
   "cell_type": "code",
   "execution_count": null,
   "id": "30255788-56eb-47bc-a8e2-fca15bfbe325",
   "metadata": {},
   "outputs": [],
   "source": []
  },
  {
   "cell_type": "code",
   "execution_count": null,
   "id": "d052b642-62d8-4657-ba60-9ec57cc5e034",
   "metadata": {},
   "outputs": [],
   "source": []
  },
  {
   "cell_type": "code",
   "execution_count": null,
   "id": "f95e1713-87f2-434c-94fd-cf30bcf2eaa6",
   "metadata": {},
   "outputs": [],
   "source": []
  },
  {
   "cell_type": "code",
   "execution_count": null,
   "id": "bd698693-5a57-458b-9eb9-e41e5403903a",
   "metadata": {},
   "outputs": [],
   "source": []
  },
  {
   "cell_type": "code",
   "execution_count": null,
   "id": "e24f3340-d8df-4528-9332-de9edc7983f8",
   "metadata": {},
   "outputs": [],
   "source": []
  },
  {
   "cell_type": "code",
   "execution_count": null,
   "id": "7b4abcf1-0b67-4929-897f-283106e82751",
   "metadata": {},
   "outputs": [],
   "source": []
  },
  {
   "cell_type": "code",
   "execution_count": null,
   "id": "3dd0b52a-7b67-4c79-976e-77a7c116d417",
   "metadata": {},
   "outputs": [],
   "source": []
  },
  {
   "cell_type": "code",
   "execution_count": null,
   "id": "15e5a5ec-1dc2-4178-b68f-7444ca17414d",
   "metadata": {},
   "outputs": [],
   "source": []
  },
  {
   "cell_type": "code",
   "execution_count": null,
   "id": "7347603d-524c-465d-891c-af829e38dfd8",
   "metadata": {},
   "outputs": [],
   "source": []
  },
  {
   "cell_type": "code",
   "execution_count": null,
   "id": "c38854b5-ae48-49c6-aebb-28d2c829c345",
   "metadata": {},
   "outputs": [],
   "source": []
  },
  {
   "cell_type": "code",
   "execution_count": null,
   "id": "d72d7d60-2fb1-45dd-b90a-7c24b49b025d",
   "metadata": {},
   "outputs": [],
   "source": []
  },
  {
   "cell_type": "code",
   "execution_count": null,
   "id": "3c83a9b2-2622-414c-be7d-fa3096921630",
   "metadata": {},
   "outputs": [],
   "source": []
  },
  {
   "cell_type": "code",
   "execution_count": null,
   "id": "bbcea7ef-e147-4090-a6e5-6fce2bb08146",
   "metadata": {},
   "outputs": [],
   "source": []
  },
  {
   "cell_type": "code",
   "execution_count": null,
   "id": "7eae1e6d-9da4-44d6-b610-4a22753a3acb",
   "metadata": {},
   "outputs": [],
   "source": []
  },
  {
   "cell_type": "code",
   "execution_count": null,
   "id": "5105c2d9-6418-4ba4-8cae-ba20e7dda266",
   "metadata": {},
   "outputs": [],
   "source": []
  },
  {
   "cell_type": "code",
   "execution_count": null,
   "id": "98b726f9-5164-42fd-ab50-9298ee37b055",
   "metadata": {},
   "outputs": [],
   "source": []
  },
  {
   "cell_type": "code",
   "execution_count": null,
   "id": "a32a7a60-dccb-4fce-8f7e-7221ad0212f5",
   "metadata": {},
   "outputs": [],
   "source": []
  },
  {
   "cell_type": "code",
   "execution_count": null,
   "id": "bdfb9b94-9232-48c0-bd5f-b3399c7f69c4",
   "metadata": {},
   "outputs": [],
   "source": []
  },
  {
   "cell_type": "code",
   "execution_count": null,
   "id": "037a2836-8669-43a3-9869-73912277955a",
   "metadata": {},
   "outputs": [],
   "source": []
  },
  {
   "cell_type": "code",
   "execution_count": null,
   "id": "cf6d583d-207c-44ad-9bb0-c6980d327de4",
   "metadata": {},
   "outputs": [],
   "source": []
  },
  {
   "cell_type": "code",
   "execution_count": null,
   "id": "43ca57c0-7478-4146-a5a0-fc3a70536ecd",
   "metadata": {},
   "outputs": [],
   "source": []
  },
  {
   "cell_type": "code",
   "execution_count": null,
   "id": "e8bb2081-9a09-4418-8813-40789881187e",
   "metadata": {},
   "outputs": [],
   "source": []
  },
  {
   "cell_type": "code",
   "execution_count": null,
   "id": "abfaac32-6016-470a-b870-79e86cc3eaf2",
   "metadata": {},
   "outputs": [],
   "source": []
  },
  {
   "cell_type": "code",
   "execution_count": null,
   "id": "49477191-9b8b-4a1f-895e-cd28af7357bd",
   "metadata": {},
   "outputs": [],
   "source": []
  },
  {
   "cell_type": "code",
   "execution_count": null,
   "id": "639518b8-d796-450a-9885-db509a89af3e",
   "metadata": {},
   "outputs": [],
   "source": []
  },
  {
   "cell_type": "code",
   "execution_count": null,
   "id": "770f4b45-99a8-431c-9c01-873c7f256dd1",
   "metadata": {},
   "outputs": [],
   "source": []
  },
  {
   "cell_type": "code",
   "execution_count": null,
   "id": "375ccfc6-9618-4d7b-8b23-d3c3933f48c8",
   "metadata": {},
   "outputs": [],
   "source": []
  }
 ],
 "metadata": {
  "kernelspec": {
   "display_name": "Python 3 (ipykernel)",
   "language": "python",
   "name": "python3"
  },
  "language_info": {
   "codemirror_mode": {
    "name": "ipython",
    "version": 3
   },
   "file_extension": ".py",
   "mimetype": "text/x-python",
   "name": "python",
   "nbconvert_exporter": "python",
   "pygments_lexer": "ipython3",
   "version": "3.12.4"
  }
 },
 "nbformat": 4,
 "nbformat_minor": 5
}
